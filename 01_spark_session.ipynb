{
 "cells": [
  {
   "cell_type": "code",
   "execution_count": 0,
   "metadata": {
    "application/vnd.databricks.v1+cell": {
     "cellMetadata": {
      "byteLimit": 2048000,
      "rowLimit": 10000
     },
     "inputWidgets": {},
     "nuid": "c8333055-4384-43da-8184-0007ab140fd4",
     "showTitle": false,
     "tableResultSettingsMap": {},
     "title": ""
    }
   },
   "outputs": [],
   "source": [
    "# spark session\n",
    "from pyspark.sql import SparkSession\n",
    "\n",
    "spark = (\n",
    "    SparkSession\n",
    "    .builder\n",
    "    .appName(\"Spark Introduction\")\n",
    "    .master(\"local[*]\")\n",
    "    .getOrCreate()\n",
    ")"
   ]
  },
  {
   "cell_type": "code",
   "execution_count": 0,
   "metadata": {
    "application/vnd.databricks.v1+cell": {
     "cellMetadata": {
      "byteLimit": 2048000,
      "rowLimit": 10000
     },
     "inputWidgets": {},
     "nuid": "cf7edf92-e347-4762-b4bb-295a9f8cbae8",
     "showTitle": false,
     "tableResultSettingsMap": {},
     "title": ""
    }
   },
   "outputs": [
    {
     "output_type": "execute_result",
     "data": {
      "text/html": [
       "\n",
       "            <div>\n",
       "                <p><b>SparkSession - hive</b></p>\n",
       "                \n",
       "        <div>\n",
       "            <p><b>SparkContext</b></p>\n",
       "\n",
       "            <p><a href=\"/?o=4357292740597027#setting/sparkui/1209-014317-o006025b/driver-5423072622675855848\">Spark UI</a></p>\n",
       "\n",
       "            <dl>\n",
       "              <dt>Version</dt>\n",
       "                <dd><code>v3.5.0</code></dd>\n",
       "              <dt>Master</dt>\n",
       "                <dd><code>local[8]</code></dd>\n",
       "              <dt>AppName</dt>\n",
       "                <dd><code>Databricks Shell</code></dd>\n",
       "            </dl>\n",
       "        </div>\n",
       "        \n",
       "            </div>\n",
       "        "
      ],
      "text/plain": [
       "<pyspark.sql.session.SparkSession at 0x7f8ee53b65c0>"
      ]
     },
     "execution_count": 19,
     "metadata": {},
     "output_type": "execute_result"
    }
   ],
   "source": [
    "spark"
   ]
  },
  {
   "cell_type": "code",
   "execution_count": 0,
   "metadata": {
    "application/vnd.databricks.v1+cell": {
     "cellMetadata": {
      "byteLimit": 2048000,
      "rowLimit": 10000
     },
     "inputWidgets": {},
     "nuid": "63820b88-690c-4ce1-a973-debd5674e079",
     "showTitle": false,
     "tableResultSettingsMap": {},
     "title": ""
    }
   },
   "outputs": [],
   "source": [
    "# emp data and schema\n",
    "\n",
    "emp_data = [\n",
    "    ['001', '101', 'Alice Johnson', '29', 'Female', '52000', '2016-03-15'],\n",
    "    ['002', '102', 'Bob Smith', '34', 'Male', '48000', '2017-07-20'],\n",
    "    ['003', '103', 'Charlie Brown', '26', 'Male', '47000', '2018-02-01'],\n",
    "    ['004', '104', 'Diana Prince', '31', 'Female', '55000', '2015-11-12'],\n",
    "    ['005', '105', 'Ethan Hunt', '28', 'Male', '49500', '2019-05-08'],\n",
    "    ['006', '106', 'Fiona Gallagher', '27', 'Female', '51000', '2016-09-10'],\n",
    "    ['007', '107', 'George Costanza', '33', 'Male', '46000', '2015-01-01'],\n",
    "    ['008', '108', 'Hannah Montana', '25', 'Female', '53000', '2017-04-14'],\n",
    "    ['009', '109', 'Isaac Newton', '35', 'Male', '60000', '2018-10-25'],\n",
    "    ['010', '110', 'Jessica Jones', '32', 'Female', '58000', '2016-06-30'],\n",
    "    ['011', '111', 'Kevin Malone', '36', 'Male', '49000', '2015-03-18'],\n",
    "    ['012', '112', 'Laura Croft', '30', 'Female', '57000', '2017-08-22'],\n",
    "    ['013', '113', 'Mike Ross', '29', 'Male', '51500', '2019-01-05'],\n",
    "    ['014', '114', 'Nancy Drew', '27', 'Female', '54000', '2016-12-09'],\n",
    "    ['015', '115', 'Oscar Martinez', '28', 'Male', '45500', '2018-03-19'],\n",
    "    ['016', '116', 'Pam Beesly', '31', 'Female', '47500', '2019-07-13'],\n",
    "    ['017', '117', 'Quinn Fabray', '26', 'Female', '51000', '2015-11-05'],\n",
    "    ['018', '118', 'Ryan Howard', '34', 'Male', '49000', '2016-04-21'],\n",
    "    ['019', '119', 'Sophia Loren', '30', 'Female', '56000', '2018-09-17'],\n",
    "    ['020', '120', 'Toby Flenderson', '35', 'Male', '45000', '2017-02-08']\n",
    "]\n",
    "\n",
    "emp_schema = \"employee_id string, department_id string, name string, age string, gender string, salary string, hire_date string\"\n"
   ]
  },
  {
   "cell_type": "code",
   "execution_count": 0,
   "metadata": {
    "application/vnd.databricks.v1+cell": {
     "cellMetadata": {
      "byteLimit": 2048000,
      "rowLimit": 10000
     },
     "inputWidgets": {},
     "nuid": "5ec8c065-72cf-476d-8727-4aaf0e83be1d",
     "showTitle": false,
     "tableResultSettingsMap": {},
     "title": ""
    }
   },
   "outputs": [],
   "source": [
    "# create emp dataframe\n",
    "\n",
    "emp = spark.createDataFrame(data=emp_data, schema=emp_schema)"
   ]
  },
  {
   "cell_type": "code",
   "execution_count": 0,
   "metadata": {
    "application/vnd.databricks.v1+cell": {
     "cellMetadata": {
      "byteLimit": 2048000,
      "rowLimit": 10000
     },
     "inputWidgets": {},
     "nuid": "bb469b32-4851-4684-afc2-99ba01b07693",
     "showTitle": false,
     "tableResultSettingsMap": {},
     "title": ""
    }
   },
   "outputs": [
    {
     "output_type": "execute_result",
     "data": {
      "text/plain": [
       "8"
      ]
     },
     "execution_count": 22,
     "metadata": {},
     "output_type": "execute_result"
    }
   ],
   "source": [
    "# check number of partitions\n",
    "\n",
    "emp.rdd.getNumPartitions()"
   ]
  },
  {
   "cell_type": "code",
   "execution_count": 0,
   "metadata": {
    "application/vnd.databricks.v1+cell": {
     "cellMetadata": {
      "byteLimit": 2048000,
      "rowLimit": 10000
     },
     "inputWidgets": {},
     "nuid": "e354ce69-b060-488a-98ef-05e2b5a6d7a2",
     "showTitle": false,
     "tableResultSettingsMap": {},
     "title": ""
    }
   },
   "outputs": [
    {
     "output_type": "stream",
     "name": "stdout",
     "output_type": "stream",
     "text": [
      "+-----------+-------------+---------------+---+------+------+----------+\n|employee_id|department_id|           name|age|gender|salary| hire_date|\n+-----------+-------------+---------------+---+------+------+----------+\n|        001|          101|  Alice Johnson| 29|Female| 52000|2016-03-15|\n|        002|          102|      Bob Smith| 34|  Male| 48000|2017-07-20|\n|        003|          103|  Charlie Brown| 26|  Male| 47000|2018-02-01|\n|        004|          104|   Diana Prince| 31|Female| 55000|2015-11-12|\n|        005|          105|     Ethan Hunt| 28|  Male| 49500|2019-05-08|\n|        006|          106|Fiona Gallagher| 27|Female| 51000|2016-09-10|\n|        007|          107|George Costanza| 33|  Male| 46000|2015-01-01|\n|        008|          108| Hannah Montana| 25|Female| 53000|2017-04-14|\n|        009|          109|   Isaac Newton| 35|  Male| 60000|2018-10-25|\n|        010|          110|  Jessica Jones| 32|Female| 58000|2016-06-30|\n|        011|          111|   Kevin Malone| 36|  Male| 49000|2015-03-18|\n|        012|          112|    Laura Croft| 30|Female| 57000|2017-08-22|\n|        013|          113|      Mike Ross| 29|  Male| 51500|2019-01-05|\n|        014|          114|     Nancy Drew| 27|Female| 54000|2016-12-09|\n|        015|          115| Oscar Martinez| 28|  Male| 45500|2018-03-19|\n|        016|          116|     Pam Beesly| 31|Female| 47500|2019-07-13|\n|        017|          117|   Quinn Fabray| 26|Female| 51000|2015-11-05|\n|        018|          118|    Ryan Howard| 34|  Male| 49000|2016-04-21|\n|        019|          119|   Sophia Loren| 30|Female| 56000|2018-09-17|\n|        020|          120|Toby Flenderson| 35|  Male| 45000|2017-02-08|\n+-----------+-------------+---------------+---+------+------+----------+\n\n"
     ]
    }
   ],
   "source": [
    "# show data (ACTION)\n",
    "\n",
    "emp.show()"
   ]
  },
  {
   "cell_type": "code",
   "execution_count": 0,
   "metadata": {
    "application/vnd.databricks.v1+cell": {
     "cellMetadata": {
      "byteLimit": 2048000,
      "rowLimit": 10000
     },
     "inputWidgets": {},
     "nuid": "553af8d6-df45-4425-bf86-538441844928",
     "showTitle": false,
     "tableResultSettingsMap": {},
     "title": ""
    }
   },
   "outputs": [],
   "source": [
    "# write our first transformation (EMP salary > 50000)\n",
    "\n",
    "emp_final = emp.where('salary > 50000')"
   ]
  },
  {
   "cell_type": "code",
   "execution_count": 0,
   "metadata": {
    "application/vnd.databricks.v1+cell": {
     "cellMetadata": {
      "byteLimit": 2048000,
      "rowLimit": 10000
     },
     "inputWidgets": {},
     "nuid": "f11f39c0-5db7-4319-88d4-58b5c02f83a0",
     "showTitle": false,
     "tableResultSettingsMap": {},
     "title": ""
    }
   },
   "outputs": [
    {
     "output_type": "execute_result",
     "data": {
      "text/plain": [
       "8"
      ]
     },
     "execution_count": 25,
     "metadata": {},
     "output_type": "execute_result"
    }
   ],
   "source": [
    "# validate number of partitions\n",
    "\n",
    "emp_final.rdd.getNumPartitions()"
   ]
  },
  {
   "cell_type": "code",
   "execution_count": 0,
   "metadata": {
    "application/vnd.databricks.v1+cell": {
     "cellMetadata": {
      "byteLimit": 2048000,
      "rowLimit": 10000
     },
     "inputWidgets": {},
     "nuid": "3686eb7f-2e85-4911-a1ca-92bbb02fbd27",
     "showTitle": false,
     "tableResultSettingsMap": {},
     "title": ""
    }
   },
   "outputs": [],
   "source": [
    "# write data as CSV output (ACTION)\n",
    "\n",
    "# emp_final.write.format('csv').save('data/output/1/emp.csv')"
   ]
  },
  {
   "cell_type": "code",
   "execution_count": 0,
   "metadata": {
    "application/vnd.databricks.v1+cell": {
     "cellMetadata": {
      "byteLimit": 2048000,
      "rowLimit": 10000
     },
     "inputWidgets": {},
     "nuid": "7a63a2f9-d2cd-4820-af87-321050025d62",
     "showTitle": false,
     "tableResultSettingsMap": {},
     "title": ""
    }
   },
   "outputs": [],
   "source": []
  }
 ],
 "metadata": {
  "application/vnd.databricks.v1+notebook": {
   "dashboards": [],
   "environmentMetadata": null,
   "language": "python",
   "notebookMetadata": {
    "pythonIndentUnit": 4
   },
   "notebookName": "01_spark_session",
   "widgets": {}
  }
 },
 "nbformat": 4,
 "nbformat_minor": 0
}
