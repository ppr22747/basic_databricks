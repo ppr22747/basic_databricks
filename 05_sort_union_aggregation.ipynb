{
 "cells": [
  {
   "cell_type": "code",
   "execution_count": 0,
   "metadata": {
    "application/vnd.databricks.v1+cell": {
     "cellMetadata": {
      "byteLimit": 2048000,
      "rowLimit": 10000
     },
     "inputWidgets": {},
     "nuid": "e68c975f-3c4b-4a5d-8f1b-df597c1eadc4",
     "showTitle": false,
     "tableResultSettingsMap": {},
     "title": ""
    }
   },
   "outputs": [],
   "source": [
    "# import SparkSession from spark SQL\n",
    "\n",
    "from pyspark.sql import SparkSession\n",
    "\n",
    "spark = (\n",
    "    SparkSession\n",
    "    .builder\n",
    "    .appName('Basic Transformation - I')\n",
    "    .getOrCreate()\n",
    ")"
   ]
  },
  {
   "cell_type": "code",
   "execution_count": 0,
   "metadata": {
    "application/vnd.databricks.v1+cell": {
     "cellMetadata": {
      "byteLimit": 2048000,
      "rowLimit": 10000
     },
     "inputWidgets": {},
     "nuid": "6cf56327-6ee1-4e95-9346-92b083d2fc3a",
     "showTitle": false,
     "tableResultSettingsMap": {},
     "title": ""
    }
   },
   "outputs": [
    {
     "output_type": "execute_result",
     "data": {
      "text/html": [
       "\n",
       "            <div>\n",
       "                <p><b>SparkSession - hive</b></p>\n",
       "                \n",
       "        <div>\n",
       "            <p><b>SparkContext</b></p>\n",
       "\n",
       "            <p><a href=\"/?o=4357292740597027#setting/sparkui/1209-070202-fjcdr39x/driver-63789682854175775\">Spark UI</a></p>\n",
       "\n",
       "            <dl>\n",
       "              <dt>Version</dt>\n",
       "                <dd><code>v3.5.0</code></dd>\n",
       "              <dt>Master</dt>\n",
       "                <dd><code>local[8]</code></dd>\n",
       "              <dt>AppName</dt>\n",
       "                <dd><code>Databricks Shell</code></dd>\n",
       "            </dl>\n",
       "        </div>\n",
       "        \n",
       "            </div>\n",
       "        "
      ],
      "text/plain": [
       "<pyspark.sql.session.SparkSession at 0x7f7c77c0b190>"
      ]
     },
     "execution_count": 2,
     "metadata": {},
     "output_type": "execute_result"
    }
   ],
   "source": [
    "spark"
   ]
  },
  {
   "cell_type": "code",
   "execution_count": 0,
   "metadata": {
    "application/vnd.databricks.v1+cell": {
     "cellMetadata": {
      "byteLimit": 2048000,
      "rowLimit": 10000
     },
     "inputWidgets": {},
     "nuid": "fe66e0f6-a041-4dbb-8531-38cc0a79e8fa",
     "showTitle": false,
     "tableResultSettingsMap": {},
     "title": ""
    }
   },
   "outputs": [],
   "source": [
    "# emp data and schema\n",
    "\n",
    "emp_data_1 = [\n",
    "    ['001', '101', 'Alice Johnson', '29', 'Female', '52000', '2016-03-15'],\n",
    "    ['002', '102', 'Bob Smith', '34', 'Male', '48000', '2017-07-20'],\n",
    "    ['003', '103', 'Charlie Brown', '26', 'Male', '47000', '2018-02-01'],\n",
    "    ['004', '104', 'Diana Prince', '31', 'Female', '55000', '2015-11-12'],\n",
    "    ['005', '105', 'Ethan Hunt', '28', 'Male', '49500', '2019-05-08'],\n",
    "    ['006', '106', 'Fiona Gallagher', '27', 'Female', '51000', '2016-09-10'],\n",
    "    ['007', '107', 'George Costanza', '33', 'Male', '46000', '2015-01-01'],\n",
    "    ['008', '108', 'Hannah Montana', '25', 'Female', '53000', '2017-04-14'],\n",
    "    ['009', '109', 'Isaac Newton', '35', 'Male', '60000', '2018-10-25'],\n",
    "    ['010', '110', 'Jessica Jones', '32', 'Female', '58000', '2016-06-30'],\n",
    "]\n",
    "\n",
    "emp_data_2 = [\n",
    "    ['011', '111', 'Kevin Malone', '36', 'Male', '49000', '2015-03-18'],\n",
    "    ['012', '112', 'Laura Croft', '30', 'Female', '57000', '2017-08-22'],\n",
    "    ['013', '113', 'Mike Ross', '29', 'Male', '51500', '2019-01-05'],\n",
    "    ['014', '114', 'Nancy Drew', '27', 'Female', '54000', '2016-12-09'],\n",
    "    ['015', '115', 'Oscar Martinez', '28', '', '45500', '2018-03-19'],\n",
    "    ['016', '116', 'Pam Beesly', '31', 'Female', '47500', '2019-07-13'],\n",
    "    ['017', '117', 'Quinn Fabray', '26', 'Female', '51000', '2015-11-05'],\n",
    "    ['018', '118', 'Ryan Howard', '34', 'Male', '49000', '2016-04-21'],\n",
    "    ['019', '119', 'Sophia Loren', '30', 'Female', '56000', '2018-09-17'],\n",
    "    ['020', '120', 'Toby Flenderson', '35', 'Male', '45000', '2017-02-08']\n",
    "]\n",
    "\n",
    "emp_schema = \"employee_id string, department_id string, name string, age string, gender string, salary string, hire_date string\""
   ]
  },
  {
   "cell_type": "code",
   "execution_count": 0,
   "metadata": {
    "application/vnd.databricks.v1+cell": {
     "cellMetadata": {
      "byteLimit": 2048000,
      "rowLimit": 10000
     },
     "inputWidgets": {},
     "nuid": "8707fd0f-facd-4783-8d0a-5e5be3a74080",
     "showTitle": false,
     "tableResultSettingsMap": {},
     "title": ""
    }
   },
   "outputs": [],
   "source": [
    "emp_1 = spark.createDataFrame(data=emp_data_1, schema=emp_schema)\n",
    "emp_2 = spark.createDataFrame(data=emp_data_2, schema=emp_schema)"
   ]
  },
  {
   "cell_type": "code",
   "execution_count": 0,
   "metadata": {
    "application/vnd.databricks.v1+cell": {
     "cellMetadata": {
      "byteLimit": 2048000,
      "rowLimit": 10000
     },
     "inputWidgets": {},
     "nuid": "21a88595-906c-47b6-8ae0-842d3b3b2f71",
     "showTitle": false,
     "tableResultSettingsMap": {},
     "title": ""
    }
   },
   "outputs": [
    {
     "output_type": "stream",
     "name": "stdout",
     "output_type": "stream",
     "text": [
      "+-----------+-------------+---------------+---+------+------+----------+\n|employee_id|department_id|           name|age|gender|salary| hire_date|\n+-----------+-------------+---------------+---+------+------+----------+\n|        001|          101|  Alice Johnson| 29|Female| 52000|2016-03-15|\n|        002|          102|      Bob Smith| 34|  Male| 48000|2017-07-20|\n|        003|          103|  Charlie Brown| 26|  Male| 47000|2018-02-01|\n|        004|          104|   Diana Prince| 31|Female| 55000|2015-11-12|\n|        005|          105|     Ethan Hunt| 28|  Male| 49500|2019-05-08|\n|        006|          106|Fiona Gallagher| 27|Female| 51000|2016-09-10|\n|        007|          107|George Costanza| 33|  Male| 46000|2015-01-01|\n|        008|          108| Hannah Montana| 25|Female| 53000|2017-04-14|\n|        009|          109|   Isaac Newton| 35|  Male| 60000|2018-10-25|\n|        010|          110|  Jessica Jones| 32|Female| 58000|2016-06-30|\n+-----------+-------------+---------------+---+------+------+----------+\n\n"
     ]
    }
   ],
   "source": [
    "emp_1.show()"
   ]
  },
  {
   "cell_type": "code",
   "execution_count": 0,
   "metadata": {
    "application/vnd.databricks.v1+cell": {
     "cellMetadata": {
      "byteLimit": 2048000,
      "rowLimit": 10000
     },
     "inputWidgets": {},
     "nuid": "3a988657-9659-432d-9274-c069fc4827de",
     "showTitle": false,
     "tableResultSettingsMap": {},
     "title": ""
    }
   },
   "outputs": [
    {
     "output_type": "stream",
     "name": "stdout",
     "output_type": "stream",
     "text": [
      "root\n |-- employee_id: string (nullable = true)\n |-- department_id: string (nullable = true)\n |-- name: string (nullable = true)\n |-- age: string (nullable = true)\n |-- gender: string (nullable = true)\n |-- salary: string (nullable = true)\n |-- hire_date: string (nullable = true)\n\n"
     ]
    }
   ],
   "source": [
    "emp_1.printSchema()"
   ]
  },
  {
   "cell_type": "code",
   "execution_count": 0,
   "metadata": {
    "application/vnd.databricks.v1+cell": {
     "cellMetadata": {
      "byteLimit": 2048000,
      "rowLimit": 10000
     },
     "inputWidgets": {},
     "nuid": "292c02b1-7b30-464e-8084-fc921a664986",
     "showTitle": false,
     "tableResultSettingsMap": {},
     "title": ""
    }
   },
   "outputs": [
    {
     "output_type": "stream",
     "name": "stdout",
     "output_type": "stream",
     "text": [
      "+-----------+-------------+---------------+---+------+------+----------+\n|employee_id|department_id|           name|age|gender|salary| hire_date|\n+-----------+-------------+---------------+---+------+------+----------+\n|        011|          111|   Kevin Malone| 36|  Male| 49000|2015-03-18|\n|        012|          112|    Laura Croft| 30|Female| 57000|2017-08-22|\n|        013|          113|      Mike Ross| 29|  Male| 51500|2019-01-05|\n|        014|          114|     Nancy Drew| 27|Female| 54000|2016-12-09|\n|        015|          115| Oscar Martinez| 28|      | 45500|2018-03-19|\n|        016|          116|     Pam Beesly| 31|Female| 47500|2019-07-13|\n|        017|          117|   Quinn Fabray| 26|Female| 51000|2015-11-05|\n|        018|          118|    Ryan Howard| 34|  Male| 49000|2016-04-21|\n|        019|          119|   Sophia Loren| 30|Female| 56000|2018-09-17|\n|        020|          120|Toby Flenderson| 35|  Male| 45000|2017-02-08|\n+-----------+-------------+---------------+---+------+------+----------+\n\n"
     ]
    }
   ],
   "source": [
    "emp_2.show()"
   ]
  },
  {
   "cell_type": "code",
   "execution_count": 0,
   "metadata": {
    "application/vnd.databricks.v1+cell": {
     "cellMetadata": {
      "byteLimit": 2048000,
      "rowLimit": 10000
     },
     "inputWidgets": {},
     "nuid": "cc205b9a-8e55-4d72-b08f-30784565d8a8",
     "showTitle": false,
     "tableResultSettingsMap": {},
     "title": ""
    }
   },
   "outputs": [
    {
     "output_type": "stream",
     "name": "stdout",
     "output_type": "stream",
     "text": [
      "root\n |-- employee_id: string (nullable = true)\n |-- department_id: string (nullable = true)\n |-- name: string (nullable = true)\n |-- age: string (nullable = true)\n |-- gender: string (nullable = true)\n |-- salary: string (nullable = true)\n |-- hire_date: string (nullable = true)\n\n"
     ]
    }
   ],
   "source": [
    "emp_2.printSchema()"
   ]
  },
  {
   "cell_type": "code",
   "execution_count": 0,
   "metadata": {
    "application/vnd.databricks.v1+cell": {
     "cellMetadata": {
      "byteLimit": 2048000,
      "rowLimit": 10000
     },
     "inputWidgets": {},
     "nuid": "50948b23-db50-45fc-9e91-161a2030ae7a",
     "showTitle": false,
     "tableResultSettingsMap": {},
     "title": ""
    }
   },
   "outputs": [],
   "source": [
    "# Union and Union All\n",
    "# select * from emp_1 union select * from emp_2\n",
    "\n",
    "emp = emp_1.union(emp_2) # exclude duplication\n",
    "# emp = emp_1.unionAll(emp_2) ## include duplication"
   ]
  },
  {
   "cell_type": "code",
   "execution_count": 0,
   "metadata": {
    "application/vnd.databricks.v1+cell": {
     "cellMetadata": {
      "byteLimit": 2048000,
      "rowLimit": 10000
     },
     "inputWidgets": {},
     "nuid": "fd42e479-b4b4-4304-87ee-43b3381bbebd",
     "showTitle": false,
     "tableResultSettingsMap": {},
     "title": ""
    }
   },
   "outputs": [
    {
     "output_type": "stream",
     "name": "stdout",
     "output_type": "stream",
     "text": [
      "+-----------+-------------+---------------+---+------+------+----------+\n|employee_id|department_id|           name|age|gender|salary| hire_date|\n+-----------+-------------+---------------+---+------+------+----------+\n|        001|          101|  Alice Johnson| 29|Female| 52000|2016-03-15|\n|        002|          102|      Bob Smith| 34|  Male| 48000|2017-07-20|\n|        003|          103|  Charlie Brown| 26|  Male| 47000|2018-02-01|\n|        004|          104|   Diana Prince| 31|Female| 55000|2015-11-12|\n|        005|          105|     Ethan Hunt| 28|  Male| 49500|2019-05-08|\n|        006|          106|Fiona Gallagher| 27|Female| 51000|2016-09-10|\n|        007|          107|George Costanza| 33|  Male| 46000|2015-01-01|\n|        008|          108| Hannah Montana| 25|Female| 53000|2017-04-14|\n|        009|          109|   Isaac Newton| 35|  Male| 60000|2018-10-25|\n|        010|          110|  Jessica Jones| 32|Female| 58000|2016-06-30|\n|        011|          111|   Kevin Malone| 36|  Male| 49000|2015-03-18|\n|        012|          112|    Laura Croft| 30|Female| 57000|2017-08-22|\n|        013|          113|      Mike Ross| 29|  Male| 51500|2019-01-05|\n|        014|          114|     Nancy Drew| 27|Female| 54000|2016-12-09|\n|        015|          115| Oscar Martinez| 28|      | 45500|2018-03-19|\n|        016|          116|     Pam Beesly| 31|Female| 47500|2019-07-13|\n|        017|          117|   Quinn Fabray| 26|Female| 51000|2015-11-05|\n|        018|          118|    Ryan Howard| 34|  Male| 49000|2016-04-21|\n|        019|          119|   Sophia Loren| 30|Female| 56000|2018-09-17|\n|        020|          120|Toby Flenderson| 35|  Male| 45000|2017-02-08|\n+-----------+-------------+---------------+---+------+------+----------+\n\n"
     ]
    }
   ],
   "source": [
    "emp.show()"
   ]
  },
  {
   "cell_type": "code",
   "execution_count": 0,
   "metadata": {
    "application/vnd.databricks.v1+cell": {
     "cellMetadata": {
      "byteLimit": 2048000,
      "rowLimit": 10000
     },
     "inputWidgets": {},
     "nuid": "5008bb8a-11f9-456c-815f-b0359b26bf64",
     "showTitle": false,
     "tableResultSettingsMap": {},
     "title": ""
    }
   },
   "outputs": [],
   "source": [
    "# sort the emp data based on desc salary\n",
    "# select * from emp order by salary desc\n",
    "\n",
    "from pyspark.sql.functions import desc, asc, col\n",
    "\n",
    "emp_sorted = emp.orderBy(col('salary').desc())\n",
    "# emp_sorted = emp.orderBy(col('salary').asc()) # ascending"
   ]
  },
  {
   "cell_type": "code",
   "execution_count": 0,
   "metadata": {
    "application/vnd.databricks.v1+cell": {
     "cellMetadata": {
      "byteLimit": 2048000,
      "rowLimit": 10000
     },
     "inputWidgets": {},
     "nuid": "83c71f25-93e7-4652-9b6a-0dfaf6b67255",
     "showTitle": false,
     "tableResultSettingsMap": {},
     "title": ""
    }
   },
   "outputs": [
    {
     "output_type": "stream",
     "name": "stdout",
     "output_type": "stream",
     "text": [
      "+-----------+-------------+---------------+---+------+------+----------+\n|employee_id|department_id|           name|age|gender|salary| hire_date|\n+-----------+-------------+---------------+---+------+------+----------+\n|        009|          109|   Isaac Newton| 35|  Male| 60000|2018-10-25|\n|        010|          110|  Jessica Jones| 32|Female| 58000|2016-06-30|\n|        012|          112|    Laura Croft| 30|Female| 57000|2017-08-22|\n|        019|          119|   Sophia Loren| 30|Female| 56000|2018-09-17|\n|        004|          104|   Diana Prince| 31|Female| 55000|2015-11-12|\n|        014|          114|     Nancy Drew| 27|Female| 54000|2016-12-09|\n|        008|          108| Hannah Montana| 25|Female| 53000|2017-04-14|\n|        001|          101|  Alice Johnson| 29|Female| 52000|2016-03-15|\n|        013|          113|      Mike Ross| 29|  Male| 51500|2019-01-05|\n|        017|          117|   Quinn Fabray| 26|Female| 51000|2015-11-05|\n|        006|          106|Fiona Gallagher| 27|Female| 51000|2016-09-10|\n|        005|          105|     Ethan Hunt| 28|  Male| 49500|2019-05-08|\n|        018|          118|    Ryan Howard| 34|  Male| 49000|2016-04-21|\n|        011|          111|   Kevin Malone| 36|  Male| 49000|2015-03-18|\n|        002|          102|      Bob Smith| 34|  Male| 48000|2017-07-20|\n|        016|          116|     Pam Beesly| 31|Female| 47500|2019-07-13|\n|        003|          103|  Charlie Brown| 26|  Male| 47000|2018-02-01|\n|        007|          107|George Costanza| 33|  Male| 46000|2015-01-01|\n|        015|          115| Oscar Martinez| 28|      | 45500|2018-03-19|\n|        020|          120|Toby Flenderson| 35|  Male| 45000|2017-02-08|\n+-----------+-------------+---------------+---+------+------+----------+\n\n"
     ]
    }
   ],
   "source": [
    "emp_sorted.show()"
   ]
  },
  {
   "cell_type": "code",
   "execution_count": 0,
   "metadata": {
    "application/vnd.databricks.v1+cell": {
     "cellMetadata": {
      "byteLimit": 2048000,
      "rowLimit": 10000
     },
     "inputWidgets": {},
     "nuid": "405a4bce-7a72-4a98-bfa7-5cfc031e06b3",
     "showTitle": false,
     "tableResultSettingsMap": {},
     "title": ""
    }
   },
   "outputs": [],
   "source": [
    "# aggregation\n",
    "# select dept_id, count(employee_id) as total_dept_count from emp_sorted group by dept_id\n",
    "from pyspark.sql.functions import count\n",
    "\n",
    "emp_count = emp.withColumnRenamed(\"department_id\", \"dept_id\").groupBy('dept_id').agg(count('employee_id').alias('total_dept_count'))"
   ]
  },
  {
   "cell_type": "code",
   "execution_count": 0,
   "metadata": {
    "application/vnd.databricks.v1+cell": {
     "cellMetadata": {
      "byteLimit": 2048000,
      "rowLimit": 10000
     },
     "inputWidgets": {},
     "nuid": "90b13aab-a89e-4c62-bff1-e4334d874072",
     "showTitle": false,
     "tableResultSettingsMap": {},
     "title": ""
    }
   },
   "outputs": [
    {
     "output_type": "stream",
     "name": "stdout",
     "output_type": "stream",
     "text": [
      "+-------+----------------+\n|dept_id|total_dept_count|\n+-------+----------------+\n|    101|               1|\n|    102|               1|\n|    103|               1|\n|    104|               1|\n|    105|               1|\n+-------+----------------+\nonly showing top 5 rows\n\n"
     ]
    }
   ],
   "source": [
    "emp_count.show(5)"
   ]
  },
  {
   "cell_type": "code",
   "execution_count": 0,
   "metadata": {
    "application/vnd.databricks.v1+cell": {
     "cellMetadata": {
      "byteLimit": 2048000,
      "rowLimit": 10000
     },
     "inputWidgets": {},
     "nuid": "9d53336c-259d-4f6f-aad5-8906692d77ad",
     "showTitle": false,
     "tableResultSettingsMap": {},
     "title": ""
    }
   },
   "outputs": [],
   "source": [
    "# Aggregation\n",
    "# select dept_id, sum(salary) as total_dept_salary from emp_sorted group by dept_id\n",
    "from pyspark.sql.functions import sum\n",
    "\n",
    "emp_sum = emp.withColumnRenamed(\"department_id\", \"dept_id\").groupBy('dept_id').agg(sum('salary').alias('total_dept_salary'))"
   ]
  },
  {
   "cell_type": "code",
   "execution_count": 0,
   "metadata": {
    "application/vnd.databricks.v1+cell": {
     "cellMetadata": {
      "byteLimit": 2048000,
      "rowLimit": 10000
     },
     "inputWidgets": {},
     "nuid": "168ba5dd-18b7-4137-bcd6-1d6c7496717f",
     "showTitle": false,
     "tableResultSettingsMap": {},
     "title": ""
    }
   },
   "outputs": [
    {
     "output_type": "stream",
     "name": "stdout",
     "output_type": "stream",
     "text": [
      "+-------+-----------------+\n|dept_id|total_dept_salary|\n+-------+-----------------+\n|    101|          52000.0|\n|    102|          48000.0|\n|    103|          47000.0|\n|    104|          55000.0|\n|    105|          49500.0|\n+-------+-----------------+\nonly showing top 5 rows\n\n"
     ]
    }
   ],
   "source": [
    "emp_sum.show(5)"
   ]
  },
  {
   "cell_type": "code",
   "execution_count": 0,
   "metadata": {
    "application/vnd.databricks.v1+cell": {
     "cellMetadata": {
      "byteLimit": 2048000,
      "rowLimit": 10000
     },
     "inputWidgets": {},
     "nuid": "5c99c5b0-72b4-42de-b880-d30d4467f774",
     "showTitle": false,
     "tableResultSettingsMap": {},
     "title": ""
    }
   },
   "outputs": [],
   "source": [
    "# Aggregation with HAVING clause\n",
    "# select dept_id, avg(salary) as avg_dept_salary from emp_sorted group by dept_id having avg(salary) > 50000\n",
    "from pyspark.sql.functions import avg\n",
    "\n",
    "emp_avg = emp_sorted.withColumnRenamed(\"department_id\",\"dept_id\").groupBy(\"dept_id\").agg(avg('salary').alias('avg_dept_salary')).where('avg_dept_salary > 50000')"
   ]
  },
  {
   "cell_type": "code",
   "execution_count": 0,
   "metadata": {
    "application/vnd.databricks.v1+cell": {
     "cellMetadata": {
      "byteLimit": 2048000,
      "rowLimit": 10000
     },
     "inputWidgets": {},
     "nuid": "afd8ac36-fc82-4e24-acd0-9c9913b9a5f2",
     "showTitle": false,
     "tableResultSettingsMap": {},
     "title": ""
    }
   },
   "outputs": [
    {
     "output_type": "stream",
     "name": "stdout",
     "output_type": "stream",
     "text": [
      "+-------+---------------+\n|dept_id|avg_dept_salary|\n+-------+---------------+\n|    101|        52000.0|\n|    112|        57000.0|\n|    113|        51500.0|\n|    110|        58000.0|\n|    104|        55000.0|\n+-------+---------------+\nonly showing top 5 rows\n\n"
     ]
    }
   ],
   "source": [
    "emp_avg.show(5)"
   ]
  },
  {
   "cell_type": "code",
   "execution_count": 0,
   "metadata": {
    "application/vnd.databricks.v1+cell": {
     "cellMetadata": {
      "byteLimit": 2048000,
      "rowLimit": 10000
     },
     "inputWidgets": {},
     "nuid": "296303d5-115b-4271-b0a3-48782466d388",
     "showTitle": false,
     "tableResultSettingsMap": {},
     "title": ""
    }
   },
   "outputs": [
    {
     "output_type": "stream",
     "name": "stdout",
     "output_type": "stream",
     "text": [
      "root\n |-- employee_id: string (nullable = true)\n |-- department_id: string (nullable = true)\n |-- name: string (nullable = true)\n |-- age: string (nullable = true)\n |-- gender: string (nullable = true)\n |-- salary: string (nullable = true)\n |-- hire_date: string (nullable = true)\n\nroot\n |-- employee_id: string (nullable = true)\n |-- salary: string (nullable = true)\n |-- department_id: string (nullable = true)\n |-- name: string (nullable = true)\n |-- hire_date: string (nullable = true)\n |-- gender: string (nullable = true)\n |-- age: string (nullable = true)\n\n"
     ]
    }
   ],
   "source": [
    "# UNION by name\n",
    "# In case of the column sequence is different\n",
    "\n",
    "emp_2_other = emp_2.select('employee_id', 'salary', 'department_id', 'name', 'hire_date','gender','age')\n",
    "\n",
    "emp_1.printSchema()\n",
    "emp_2_other.printSchema()"
   ]
  },
  {
   "cell_type": "code",
   "execution_count": 0,
   "metadata": {
    "application/vnd.databricks.v1+cell": {
     "cellMetadata": {
      "byteLimit": 2048000,
      "rowLimit": 10000
     },
     "inputWidgets": {},
     "nuid": "00b0b1ca-087f-4c8e-a0e8-98b1ae64e21a",
     "showTitle": false,
     "tableResultSettingsMap": {},
     "title": ""
    }
   },
   "outputs": [],
   "source": [
    "emp_fixed = emp_1.unionByName(emp_2_other)"
   ]
  },
  {
   "cell_type": "code",
   "execution_count": 0,
   "metadata": {
    "application/vnd.databricks.v1+cell": {
     "cellMetadata": {
      "byteLimit": 2048000,
      "rowLimit": 10000
     },
     "inputWidgets": {},
     "nuid": "455115c0-e102-4c3b-97a0-c36c79a32609",
     "showTitle": false,
     "tableResultSettingsMap": {},
     "title": ""
    }
   },
   "outputs": [
    {
     "output_type": "stream",
     "name": "stdout",
     "output_type": "stream",
     "text": [
      "+-----------+-------------+---------------+---+------+------+----------+\n|employee_id|department_id|           name|age|gender|salary| hire_date|\n+-----------+-------------+---------------+---+------+------+----------+\n|        001|          101|  Alice Johnson| 29|Female| 52000|2016-03-15|\n|        002|          102|      Bob Smith| 34|  Male| 48000|2017-07-20|\n|        003|          103|  Charlie Brown| 26|  Male| 47000|2018-02-01|\n|        004|          104|   Diana Prince| 31|Female| 55000|2015-11-12|\n|        005|          105|     Ethan Hunt| 28|  Male| 49500|2019-05-08|\n|        006|          106|Fiona Gallagher| 27|Female| 51000|2016-09-10|\n|        007|          107|George Costanza| 33|  Male| 46000|2015-01-01|\n|        008|          108| Hannah Montana| 25|Female| 53000|2017-04-14|\n|        009|          109|   Isaac Newton| 35|  Male| 60000|2018-10-25|\n|        010|          110|  Jessica Jones| 32|Female| 58000|2016-06-30|\n|        011|          111|   Kevin Malone| 36|  Male| 49000|2015-03-18|\n|        012|          112|    Laura Croft| 30|Female| 57000|2017-08-22|\n|        013|          113|      Mike Ross| 29|  Male| 51500|2019-01-05|\n|        014|          114|     Nancy Drew| 27|Female| 54000|2016-12-09|\n|        015|          115| Oscar Martinez| 28|      | 45500|2018-03-19|\n|        016|          116|     Pam Beesly| 31|Female| 47500|2019-07-13|\n|        017|          117|   Quinn Fabray| 26|Female| 51000|2015-11-05|\n|        018|          118|    Ryan Howard| 34|  Male| 49000|2016-04-21|\n|        019|          119|   Sophia Loren| 30|Female| 56000|2018-09-17|\n|        020|          120|Toby Flenderson| 35|  Male| 45000|2017-02-08|\n+-----------+-------------+---------------+---+------+------+----------+\n\n"
     ]
    }
   ],
   "source": [
    "emp_fixed.show()"
   ]
  },
  {
   "cell_type": "code",
   "execution_count": 0,
   "metadata": {
    "application/vnd.databricks.v1+cell": {
     "cellMetadata": {},
     "inputWidgets": {},
     "nuid": "aa3c94d5-365d-4485-a731-8773f602b716",
     "showTitle": false,
     "tableResultSettingsMap": {},
     "title": ""
    }
   },
   "outputs": [],
   "source": []
  }
 ],
 "metadata": {
  "application/vnd.databricks.v1+notebook": {
   "dashboards": [],
   "environmentMetadata": null,
   "language": "python",
   "notebookMetadata": {
    "pythonIndentUnit": 4
   },
   "notebookName": "05_sort_union_aggregation",
   "widgets": {}
  }
 },
 "nbformat": 4,
 "nbformat_minor": 0
}
