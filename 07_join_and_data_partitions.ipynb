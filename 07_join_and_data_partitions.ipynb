{
 "cells": [
  {
   "cell_type": "markdown",
   "metadata": {
    "application/vnd.databricks.v1+cell": {
     "cellMetadata": {},
     "inputWidgets": {},
     "nuid": "f9017f0e-21e0-467c-9db4-2ce65a9bc4dc",
     "showTitle": false,
     "tableResultSettingsMap": {},
     "title": ""
    }
   },
   "source": [
    "### Repartitions"
   ]
  },
  {
   "cell_type": "code",
   "execution_count": 0,
   "metadata": {
    "application/vnd.databricks.v1+cell": {
     "cellMetadata": {
      "byteLimit": 2048000,
      "rowLimit": 10000
     },
     "inputWidgets": {},
     "nuid": "eb1da2dc-7c91-4afb-ac13-aaebcdfa01f5",
     "showTitle": false,
     "tableResultSettingsMap": {},
     "title": ""
    }
   },
   "outputs": [],
   "source": [
    "# import SparkSession from spark SQL\n",
    "\n",
    "from pyspark.sql import SparkSession\n",
    "\n",
    "spark = (\n",
    "    SparkSession\n",
    "    .builder\n",
    "    .appName('Basic Transformation - I')\n",
    "    .getOrCreate()\n",
    ")"
   ]
  },
  {
   "cell_type": "code",
   "execution_count": 0,
   "metadata": {
    "application/vnd.databricks.v1+cell": {
     "cellMetadata": {
      "byteLimit": 2048000,
      "rowLimit": 10000
     },
     "inputWidgets": {},
     "nuid": "48d9fa2b-1c64-4237-99b9-840ed477004c",
     "showTitle": false,
     "tableResultSettingsMap": {},
     "title": ""
    }
   },
   "outputs": [
    {
     "output_type": "execute_result",
     "data": {
      "text/html": [
       "\n",
       "            <div>\n",
       "                <p><b>SparkSession - hive</b></p>\n",
       "                \n",
       "        <div>\n",
       "            <p><b>SparkContext</b></p>\n",
       "\n",
       "            <p><a href=\"/?o=4357292740597027#setting/sparkui/1211-020203-eslparhw/driver-3601042575087756901\">Spark UI</a></p>\n",
       "\n",
       "            <dl>\n",
       "              <dt>Version</dt>\n",
       "                <dd><code>v3.5.0</code></dd>\n",
       "              <dt>Master</dt>\n",
       "                <dd><code>local[8]</code></dd>\n",
       "              <dt>AppName</dt>\n",
       "                <dd><code>Databricks Shell</code></dd>\n",
       "            </dl>\n",
       "        </div>\n",
       "        \n",
       "            </div>\n",
       "        "
      ],
      "text/plain": [
       "<pyspark.sql.session.SparkSession at 0x7f8acf7f3190>"
      ]
     },
     "execution_count": 2,
     "metadata": {},
     "output_type": "execute_result"
    }
   ],
   "source": [
    "spark"
   ]
  },
  {
   "cell_type": "code",
   "execution_count": 0,
   "metadata": {
    "application/vnd.databricks.v1+cell": {
     "cellMetadata": {
      "byteLimit": 2048000,
      "rowLimit": 10000
     },
     "inputWidgets": {},
     "nuid": "89ee8906-c643-4e31-9110-f099dd488419",
     "showTitle": false,
     "tableResultSettingsMap": {},
     "title": ""
    }
   },
   "outputs": [],
   "source": [
    "# emp data and schema\n",
    "\n",
    "emp_data = [\n",
    "    ['001', '101', 'Alice Johnson', '29', 'Female', '52000', '2016-03-15'],\n",
    "    ['002', '102', 'Bob Smith', '34', 'Male', '48000', '2017-07-20'],\n",
    "    ['003', '103', 'Charlie Brown', '26', 'Male', '47000', '2018-02-01'],\n",
    "    ['004', '104', 'Diana Prince', '31', 'Female', '55000', '2015-11-12'],\n",
    "    ['005', '101', 'Ethan Hunt', '28', 'Male', '49500', '2019-05-08'],\n",
    "    ['006', '102', 'Fiona Gallagher', '27', 'Female', '51000', '2016-09-10'],\n",
    "    ['007', '103', 'George Costanza', '33', 'Male', '46000', '2015-01-01'],\n",
    "    ['008', '107', 'Hannah Montana', '25', 'Female', '53000', '2017-04-14'],\n",
    "    ['009', '107', 'Isaac Newton', '35', 'Male', '60000', '2018-10-25'],\n",
    "    ['010', '105', 'Jessica Jones', '32', 'Female', '58000', '2016-06-30'],\n",
    "    ['010', '105', 'Jessica Jones', '32', 'Female', '58000', '2016-06-30'],\n",
    "    ['011', '106', 'Kevin Malone', '36', 'Male', '49000', '2015-03-18'],\n",
    "    ['012', '107', 'Laura Croft', '30', 'Female', '57000', '2017-08-22'],\n",
    "    ['013', '101', 'Mike Ross', '29', 'Male', '51500', '2019-01-05'],\n",
    "    ['014', '102', 'Nancy Drew', '27', 'Female', '54000', '2016-12-09'],\n",
    "    ['015', '103', 'Oscar Martinez', '28', '', '45500', '2018-03-19'],\n",
    "    ['016', '104', 'Pam Beesly', '31', 'Female', '47500', '2019-07-13'],\n",
    "    ['017', '105', 'Quinn Fabray', '26', 'Female', '51000', '2015-11-05'],\n",
    "    ['018', '106', 'Ryan Howard', '34', 'Male', '49000', '2016-04-21'],\n",
    "    ['019', '107', 'Sophia Loren', '30', 'Female', '56000', '2018-09-17'],\n",
    "    ['020', '104', 'Toby Flenderson', '35', 'Male', '45000', '2017-02-08'],\n",
    "    ['020', '104', 'Toby Flenderson', '35', 'Male', '45000', '2017-02-08']\n",
    "]\n",
    "\n",
    "emp_schema = \"employee_id string, department_id string, name string, age string, gender string, salary string, hire_date string\"\n",
    "\n",
    "dept_data = [\n",
    "    ['101','Sales','NYC','US','1000000'],\n",
    "    ['102','Marketing','LA','US','900000'],\n",
    "    ['103','Finance','London','UK','1200000'],\n",
    "    ['104','Engineering','Beijing','China','1500000'],\n",
    "    ['105','Human Resources','Tokyo','Jappan','800000'],\n",
    "    ['106','Research and Development','Perth','Australia','1100000'],\n",
    "    ['107','Customer Service','Sydney','Australia','950000'],\n",
    "]\n",
    "\n",
    "dept_schema = \"department_id string, department_name string, city string, country string, budget string\""
   ]
  },
  {
   "cell_type": "code",
   "execution_count": 0,
   "metadata": {
    "application/vnd.databricks.v1+cell": {
     "cellMetadata": {
      "byteLimit": 2048000,
      "rowLimit": 10000
     },
     "inputWidgets": {},
     "nuid": "e3a7df4b-e725-4f8b-95a6-03f5ad5a3425",
     "showTitle": false,
     "tableResultSettingsMap": {},
     "title": ""
    }
   },
   "outputs": [],
   "source": [
    "emp = spark.createDataFrame(data=emp_data, schema=emp_schema)\n",
    "dept = spark.createDataFrame(data=dept_data, schema=dept_schema)"
   ]
  },
  {
   "cell_type": "code",
   "execution_count": 0,
   "metadata": {
    "application/vnd.databricks.v1+cell": {
     "cellMetadata": {
      "byteLimit": 2048000,
      "rowLimit": 10000
     },
     "inputWidgets": {},
     "nuid": "8c3f6e58-ade5-4dd6-a69f-9d97ebb78f18",
     "showTitle": false,
     "tableResultSettingsMap": {},
     "title": ""
    }
   },
   "outputs": [
    {
     "output_type": "stream",
     "name": "stdout",
     "output_type": "stream",
     "text": [
      "root\n |-- employee_id: string (nullable = true)\n |-- department_id: string (nullable = true)\n |-- name: string (nullable = true)\n |-- age: string (nullable = true)\n |-- gender: string (nullable = true)\n |-- salary: string (nullable = true)\n |-- hire_date: string (nullable = true)\n\n"
     ]
    }
   ],
   "source": [
    "emp.printSchema()"
   ]
  },
  {
   "cell_type": "code",
   "execution_count": 0,
   "metadata": {
    "application/vnd.databricks.v1+cell": {
     "cellMetadata": {
      "byteLimit": 2048000,
      "rowLimit": 10000
     },
     "inputWidgets": {},
     "nuid": "c7a0606b-0705-4526-b0ae-dc5addb1fe29",
     "showTitle": false,
     "tableResultSettingsMap": {},
     "title": ""
    }
   },
   "outputs": [
    {
     "output_type": "stream",
     "name": "stdout",
     "output_type": "stream",
     "text": [
      "root\n |-- department_id: string (nullable = true)\n |-- department_name: string (nullable = true)\n |-- city: string (nullable = true)\n |-- country: string (nullable = true)\n |-- budget: string (nullable = true)\n\n"
     ]
    }
   ],
   "source": [
    "dept.printSchema()"
   ]
  },
  {
   "cell_type": "code",
   "execution_count": 0,
   "metadata": {
    "application/vnd.databricks.v1+cell": {
     "cellMetadata": {
      "byteLimit": 2048000,
      "rowLimit": 10000
     },
     "inputWidgets": {},
     "nuid": "7fe2706b-80af-4b75-adbe-dd477a61bc55",
     "showTitle": false,
     "tableResultSettingsMap": {},
     "title": ""
    }
   },
   "outputs": [
    {
     "output_type": "stream",
     "name": "stdout",
     "output_type": "stream",
     "text": [
      "+-----------+-------------+---------------+---+------+------+----------+\n|employee_id|department_id|           name|age|gender|salary| hire_date|\n+-----------+-------------+---------------+---+------+------+----------+\n|        001|          101|  Alice Johnson| 29|Female| 52000|2016-03-15|\n|        002|          102|      Bob Smith| 34|  Male| 48000|2017-07-20|\n|        003|          103|  Charlie Brown| 26|  Male| 47000|2018-02-01|\n|        004|          104|   Diana Prince| 31|Female| 55000|2015-11-12|\n|        005|          101|     Ethan Hunt| 28|  Male| 49500|2019-05-08|\n|        006|          102|Fiona Gallagher| 27|Female| 51000|2016-09-10|\n|        007|          103|George Costanza| 33|  Male| 46000|2015-01-01|\n|        008|          107| Hannah Montana| 25|Female| 53000|2017-04-14|\n|        009|          107|   Isaac Newton| 35|  Male| 60000|2018-10-25|\n|        010|          105|  Jessica Jones| 32|Female| 58000|2016-06-30|\n|        010|          105|  Jessica Jones| 32|Female| 58000|2016-06-30|\n|        011|          106|   Kevin Malone| 36|  Male| 49000|2015-03-18|\n|        012|          107|    Laura Croft| 30|Female| 57000|2017-08-22|\n|        013|          101|      Mike Ross| 29|  Male| 51500|2019-01-05|\n|        014|          102|     Nancy Drew| 27|Female| 54000|2016-12-09|\n|        015|          103| Oscar Martinez| 28|      | 45500|2018-03-19|\n|        016|          104|     Pam Beesly| 31|Female| 47500|2019-07-13|\n|        017|          105|   Quinn Fabray| 26|Female| 51000|2015-11-05|\n|        018|          106|    Ryan Howard| 34|  Male| 49000|2016-04-21|\n|        019|          107|   Sophia Loren| 30|Female| 56000|2018-09-17|\n+-----------+-------------+---------------+---+------+------+----------+\nonly showing top 20 rows\n\n+-------------+--------------------+-------+---------+-------+\n|department_id|     department_name|   city|  country| budget|\n+-------------+--------------------+-------+---------+-------+\n|          101|               Sales|    NYC|       US|1000000|\n|          102|           Marketing|     LA|       US| 900000|\n|          103|             Finance| London|       UK|1200000|\n|          104|         Engineering|Beijing|    China|1500000|\n|          105|     Human Resources|  Tokyo|   Jappan| 800000|\n|          106|Research and Deve...|  Perth|Australia|1100000|\n|          107|    Customer Service| Sydney|Australia| 950000|\n+-------------+--------------------+-------+---------+-------+\n\n"
     ]
    }
   ],
   "source": [
    "emp.show()\n",
    "dept.show()"
   ]
  },
  {
   "cell_type": "code",
   "execution_count": 0,
   "metadata": {
    "application/vnd.databricks.v1+cell": {
     "cellMetadata": {
      "byteLimit": 2048000,
      "rowLimit": 10000
     },
     "inputWidgets": {},
     "nuid": "8ac9e4e9-1d3b-4f8d-85e3-94d270296e50",
     "showTitle": false,
     "tableResultSettingsMap": {},
     "title": ""
    }
   },
   "outputs": [
    {
     "output_type": "execute_result",
     "data": {
      "text/plain": [
       "8"
      ]
     },
     "execution_count": 12,
     "metadata": {},
     "output_type": "execute_result"
    }
   ],
   "source": [
    "# get number of partitions for emp\n",
    "emp.rdd.getNumPartitions()"
   ]
  },
  {
   "cell_type": "code",
   "execution_count": 0,
   "metadata": {
    "application/vnd.databricks.v1+cell": {
     "cellMetadata": {
      "byteLimit": 2048000,
      "rowLimit": 10000
     },
     "inputWidgets": {},
     "nuid": "4cb5fb9a-3438-43ee-9ac2-f9bb15efe5ba",
     "showTitle": false,
     "tableResultSettingsMap": {},
     "title": ""
    }
   },
   "outputs": [
    {
     "output_type": "execute_result",
     "data": {
      "text/plain": [
       "8"
      ]
     },
     "execution_count": 13,
     "metadata": {},
     "output_type": "execute_result"
    }
   ],
   "source": [
    "# get number of partitions for dept\n",
    "dept.rdd.getNumPartitions()"
   ]
  },
  {
   "cell_type": "code",
   "execution_count": 0,
   "metadata": {
    "application/vnd.databricks.v1+cell": {
     "cellMetadata": {
      "byteLimit": 2048000,
      "rowLimit": 10000
     },
     "inputWidgets": {},
     "nuid": "61e77bba-1545-4bb2-bd72-078c4523f964",
     "showTitle": false,
     "tableResultSettingsMap": {},
     "title": ""
    }
   },
   "outputs": [],
   "source": [
    "# Repartition of data using repartition & coalesce\n",
    "emp_partitioned = emp.repartition(4) # adjust number of partitions as you require (increase or decrease)"
   ]
  },
  {
   "cell_type": "code",
   "execution_count": 0,
   "metadata": {
    "application/vnd.databricks.v1+cell": {
     "cellMetadata": {
      "byteLimit": 2048000,
      "rowLimit": 10000
     },
     "inputWidgets": {},
     "nuid": "ba9b1507-3545-4036-ac60-6807615e7bda",
     "showTitle": false,
     "tableResultSettingsMap": {},
     "title": ""
    }
   },
   "outputs": [
    {
     "output_type": "execute_result",
     "data": {
      "text/plain": [
       "4"
      ]
     },
     "execution_count": 20,
     "metadata": {},
     "output_type": "execute_result"
    }
   ],
   "source": [
    "emp_partitioned.rdd.getNumPartitions()"
   ]
  },
  {
   "cell_type": "code",
   "execution_count": 0,
   "metadata": {
    "application/vnd.databricks.v1+cell": {
     "cellMetadata": {
      "byteLimit": 2048000,
      "rowLimit": 10000
     },
     "inputWidgets": {},
     "nuid": "f8cd2db2-3697-4c99-9d77-22cc8ed6a080",
     "showTitle": false,
     "tableResultSettingsMap": {},
     "title": ""
    }
   },
   "outputs": [],
   "source": [
    "emp_partitioned = emp.coalesce(2) # can only decrease the partitions"
   ]
  },
  {
   "cell_type": "code",
   "execution_count": 0,
   "metadata": {
    "application/vnd.databricks.v1+cell": {
     "cellMetadata": {
      "byteLimit": 2048000,
      "rowLimit": 10000
     },
     "inputWidgets": {},
     "nuid": "a78bf217-fdff-4c65-9e8b-a2d79f9de9db",
     "showTitle": false,
     "tableResultSettingsMap": {},
     "title": ""
    }
   },
   "outputs": [
    {
     "output_type": "execute_result",
     "data": {
      "text/plain": [
       "2"
      ]
     },
     "execution_count": 22,
     "metadata": {},
     "output_type": "execute_result"
    }
   ],
   "source": [
    "emp_partitioned.rdd.getNumPartitions()"
   ]
  },
  {
   "cell_type": "code",
   "execution_count": 0,
   "metadata": {
    "application/vnd.databricks.v1+cell": {
     "cellMetadata": {
      "byteLimit": 2048000,
      "rowLimit": 10000
     },
     "inputWidgets": {},
     "nuid": "6e1f31e2-1b13-4abe-91f1-3f085a35d712",
     "showTitle": false,
     "tableResultSettingsMap": {},
     "title": ""
    }
   },
   "outputs": [],
   "source": [
    "# Find the partition info for partitions and repartitions\n",
    "from pyspark.sql.functions import spark_partition_id\n",
    "\n",
    "emp_1 = emp.repartition(4, 'department_id').withColumn('partition_num', spark_partition_id())"
   ]
  },
  {
   "cell_type": "code",
   "execution_count": 0,
   "metadata": {
    "application/vnd.databricks.v1+cell": {
     "cellMetadata": {
      "byteLimit": 2048000,
      "rowLimit": 10000
     },
     "inputWidgets": {},
     "nuid": "29b71430-9a85-4f74-a216-364d8764b0b2",
     "showTitle": false,
     "tableResultSettingsMap": {},
     "title": ""
    }
   },
   "outputs": [
    {
     "output_type": "stream",
     "name": "stdout",
     "output_type": "stream",
     "text": [
      "+-----------+-------------+---------------+---+------+------+----------+-------------+\n|employee_id|department_id|           name|age|gender|salary| hire_date|partition_num|\n+-----------+-------------+---------------+---+------+------+----------+-------------+\n|        002|          102|      Bob Smith| 34|  Male| 48000|2017-07-20|            0|\n|        006|          102|Fiona Gallagher| 27|Female| 51000|2016-09-10|            0|\n|        008|          107| Hannah Montana| 25|Female| 53000|2017-04-14|            0|\n|        009|          107|   Isaac Newton| 35|  Male| 60000|2018-10-25|            0|\n|        012|          107|    Laura Croft| 30|Female| 57000|2017-08-22|            0|\n|        014|          102|     Nancy Drew| 27|Female| 54000|2016-12-09|            0|\n|        019|          107|   Sophia Loren| 30|Female| 56000|2018-09-17|            0|\n|        010|          105|  Jessica Jones| 32|Female| 58000|2016-06-30|            1|\n|        010|          105|  Jessica Jones| 32|Female| 58000|2016-06-30|            1|\n|        017|          105|   Quinn Fabray| 26|Female| 51000|2015-11-05|            1|\n|        004|          104|   Diana Prince| 31|Female| 55000|2015-11-12|            2|\n|        011|          106|   Kevin Malone| 36|  Male| 49000|2015-03-18|            2|\n|        016|          104|     Pam Beesly| 31|Female| 47500|2019-07-13|            2|\n|        018|          106|    Ryan Howard| 34|  Male| 49000|2016-04-21|            2|\n|        020|          104|Toby Flenderson| 35|  Male| 45000|2017-02-08|            2|\n|        020|          104|Toby Flenderson| 35|  Male| 45000|2017-02-08|            2|\n|        001|          101|  Alice Johnson| 29|Female| 52000|2016-03-15|            3|\n|        003|          103|  Charlie Brown| 26|  Male| 47000|2018-02-01|            3|\n|        005|          101|     Ethan Hunt| 28|  Male| 49500|2019-05-08|            3|\n|        007|          103|George Costanza| 33|  Male| 46000|2015-01-01|            3|\n+-----------+-------------+---------------+---+------+------+----------+-------------+\nonly showing top 20 rows\n\n"
     ]
    }
   ],
   "source": [
    "emp_1.show()"
   ]
  },
  {
   "cell_type": "markdown",
   "metadata": {
    "application/vnd.databricks.v1+cell": {
     "cellMetadata": {},
     "inputWidgets": {},
     "nuid": "a0dcb75d-ef64-4011-9b2c-2c6e87fc0c2e",
     "showTitle": false,
     "tableResultSettingsMap": {},
     "title": ""
    }
   },
   "source": [
    "### JOIN"
   ]
  },
  {
   "cell_type": "code",
   "execution_count": 0,
   "metadata": {
    "application/vnd.databricks.v1+cell": {
     "cellMetadata": {
      "byteLimit": 2048000,
      "rowLimit": 10000
     },
     "inputWidgets": {},
     "nuid": "997362c2-95d3-41b1-9591-7e0cb8fdd72a",
     "showTitle": false,
     "tableResultSettingsMap": {},
     "title": ""
    }
   },
   "outputs": [],
   "source": [
    "# INNER JOIN datasets\n",
    "# select e.emp_name, d.department_name, d.department_id, e.salary\n",
    "# from emp e inner join dept d on emp.department_id = dept.department_id\n",
    "# df_joined = emp.join(dept, how='inner', on=emp.department_id==dept.department_id)\n",
    "df_joined = emp.alias(\"e\").join(dept.alias(\"d\"), how='inner', on=emp.department_id==dept.department_id)"
   ]
  },
  {
   "cell_type": "code",
   "execution_count": 0,
   "metadata": {
    "application/vnd.databricks.v1+cell": {
     "cellMetadata": {
      "byteLimit": 2048000,
      "rowLimit": 10000
     },
     "inputWidgets": {},
     "nuid": "7a139a96-ce84-4c32-b92e-c54adbdef7ab",
     "showTitle": false,
     "tableResultSettingsMap": {},
     "title": ""
    }
   },
   "outputs": [
    {
     "output_type": "stream",
     "name": "stdout",
     "output_type": "stream",
     "text": [
      "+---------------+-------------+------------------------+------+\n|name           |department_id|department_name         |salary|\n+---------------+-------------+------------------------+------+\n|Alice Johnson  |101          |Sales                   |52000 |\n|Ethan Hunt     |101          |Sales                   |49500 |\n|Mike Ross      |101          |Sales                   |51500 |\n|Bob Smith      |102          |Marketing               |48000 |\n|Fiona Gallagher|102          |Marketing               |51000 |\n|Nancy Drew     |102          |Marketing               |54000 |\n|Charlie Brown  |103          |Finance                 |47000 |\n|George Costanza|103          |Finance                 |46000 |\n|Oscar Martinez |103          |Finance                 |45500 |\n|Diana Prince   |104          |Engineering             |55000 |\n|Pam Beesly     |104          |Engineering             |47500 |\n|Toby Flenderson|104          |Engineering             |45000 |\n|Toby Flenderson|104          |Engineering             |45000 |\n|Jessica Jones  |105          |Human Resources         |58000 |\n|Jessica Jones  |105          |Human Resources         |58000 |\n|Quinn Fabray   |105          |Human Resources         |51000 |\n|Kevin Malone   |106          |Research and Development|49000 |\n|Ryan Howard    |106          |Research and Development|49000 |\n|Hannah Montana |107          |Customer Service        |53000 |\n|Isaac Newton   |107          |Customer Service        |60000 |\n+---------------+-------------+------------------------+------+\nonly showing top 20 rows\n\n"
     ]
    }
   ],
   "source": [
    "# df_joined.select(emp.name, dept.department_id, dept.department_name, emp.salary).show(truncate=False)\n",
    "df_joined.select(\"e.name\", \"d.department_id\", \"d.department_name\", \"e.salary\").show(truncate=False)"
   ]
  },
  {
   "cell_type": "code",
   "execution_count": 0,
   "metadata": {
    "application/vnd.databricks.v1+cell": {
     "cellMetadata": {
      "byteLimit": 2048000,
      "rowLimit": 10000
     },
     "inputWidgets": {},
     "nuid": "2b81a85d-7388-4b54-8747-55082758ee42",
     "showTitle": false,
     "tableResultSettingsMap": {},
     "title": ""
    }
   },
   "outputs": [],
   "source": [
    "# LEFT OUTER JOIN\n",
    "# select e.emp_name, d.department_name, d.department_id, e.salary\n",
    "# from emp e left outer join dept d on emp.department_id = dept.department_id\n",
    "df_joined = emp.alias(\"e\").join(dept.alias(\"d\"), how='left_outer', on=emp.department_id==dept.department_id)"
   ]
  },
  {
   "cell_type": "code",
   "execution_count": 0,
   "metadata": {
    "application/vnd.databricks.v1+cell": {
     "cellMetadata": {
      "byteLimit": 2048000,
      "rowLimit": 10000
     },
     "inputWidgets": {},
     "nuid": "be75a8d6-588c-4159-9f9b-6011c1f69484",
     "showTitle": false,
     "tableResultSettingsMap": {},
     "title": ""
    }
   },
   "outputs": [
    {
     "output_type": "stream",
     "name": "stdout",
     "output_type": "stream",
     "text": [
      "+-----------+-------------+---------------+---+------+------+----------+-------------+--------------------+-------+---------+-------+\n|employee_id|department_id|           name|age|gender|salary| hire_date|department_id|     department_name|   city|  country| budget|\n+-----------+-------------+---------------+---+------+------+----------+-------------+--------------------+-------+---------+-------+\n|        001|          101|  Alice Johnson| 29|Female| 52000|2016-03-15|          101|               Sales|    NYC|       US|1000000|\n|        002|          102|      Bob Smith| 34|  Male| 48000|2017-07-20|          102|           Marketing|     LA|       US| 900000|\n|        003|          103|  Charlie Brown| 26|  Male| 47000|2018-02-01|          103|             Finance| London|       UK|1200000|\n|        004|          104|   Diana Prince| 31|Female| 55000|2015-11-12|          104|         Engineering|Beijing|    China|1500000|\n|        005|          101|     Ethan Hunt| 28|  Male| 49500|2019-05-08|          101|               Sales|    NYC|       US|1000000|\n|        006|          102|Fiona Gallagher| 27|Female| 51000|2016-09-10|          102|           Marketing|     LA|       US| 900000|\n|        007|          103|George Costanza| 33|  Male| 46000|2015-01-01|          103|             Finance| London|       UK|1200000|\n|        008|          107| Hannah Montana| 25|Female| 53000|2017-04-14|          107|    Customer Service| Sydney|Australia| 950000|\n|        009|          107|   Isaac Newton| 35|  Male| 60000|2018-10-25|          107|    Customer Service| Sydney|Australia| 950000|\n|        010|          105|  Jessica Jones| 32|Female| 58000|2016-06-30|          105|     Human Resources|  Tokyo|   Jappan| 800000|\n|        010|          105|  Jessica Jones| 32|Female| 58000|2016-06-30|          105|     Human Resources|  Tokyo|   Jappan| 800000|\n|        011|          106|   Kevin Malone| 36|  Male| 49000|2015-03-18|          106|Research and Deve...|  Perth|Australia|1100000|\n|        012|          107|    Laura Croft| 30|Female| 57000|2017-08-22|          107|    Customer Service| Sydney|Australia| 950000|\n|        013|          101|      Mike Ross| 29|  Male| 51500|2019-01-05|          101|               Sales|    NYC|       US|1000000|\n|        014|          102|     Nancy Drew| 27|Female| 54000|2016-12-09|          102|           Marketing|     LA|       US| 900000|\n|        015|          103| Oscar Martinez| 28|      | 45500|2018-03-19|          103|             Finance| London|       UK|1200000|\n|        016|          104|     Pam Beesly| 31|Female| 47500|2019-07-13|          104|         Engineering|Beijing|    China|1500000|\n|        017|          105|   Quinn Fabray| 26|Female| 51000|2015-11-05|          105|     Human Resources|  Tokyo|   Jappan| 800000|\n|        018|          106|    Ryan Howard| 34|  Male| 49000|2016-04-21|          106|Research and Deve...|  Perth|Australia|1100000|\n|        019|          107|   Sophia Loren| 30|Female| 56000|2018-09-17|          107|    Customer Service| Sydney|Australia| 950000|\n+-----------+-------------+---------------+---+------+------+----------+-------------+--------------------+-------+---------+-------+\nonly showing top 20 rows\n\n"
     ]
    }
   ],
   "source": [
    "df_joined.show()"
   ]
  },
  {
   "cell_type": "code",
   "execution_count": 0,
   "metadata": {
    "application/vnd.databricks.v1+cell": {
     "cellMetadata": {
      "byteLimit": 2048000,
      "rowLimit": 10000
     },
     "inputWidgets": {},
     "nuid": "62811413-3c8f-467c-a0e8-92770edb6e0a",
     "showTitle": false,
     "tableResultSettingsMap": {},
     "title": ""
    }
   },
   "outputs": [
    {
     "output_type": "stream",
     "name": "stdout",
     "output_type": "stream",
     "text": [
      "+---------------+-------------+------------------------+------+\n|name           |department_id|department_name         |salary|\n+---------------+-------------+------------------------+------+\n|Alice Johnson  |101          |Sales                   |52000 |\n|Bob Smith      |102          |Marketing               |48000 |\n|Charlie Brown  |103          |Finance                 |47000 |\n|Diana Prince   |104          |Engineering             |55000 |\n|Ethan Hunt     |101          |Sales                   |49500 |\n|Fiona Gallagher|102          |Marketing               |51000 |\n|George Costanza|103          |Finance                 |46000 |\n|Hannah Montana |107          |Customer Service        |53000 |\n|Isaac Newton   |107          |Customer Service        |60000 |\n|Jessica Jones  |105          |Human Resources         |58000 |\n|Jessica Jones  |105          |Human Resources         |58000 |\n|Kevin Malone   |106          |Research and Development|49000 |\n|Laura Croft    |107          |Customer Service        |57000 |\n|Mike Ross      |101          |Sales                   |51500 |\n|Nancy Drew     |102          |Marketing               |54000 |\n|Oscar Martinez |103          |Finance                 |45500 |\n|Pam Beesly     |104          |Engineering             |47500 |\n|Quinn Fabray   |105          |Human Resources         |51000 |\n|Ryan Howard    |106          |Research and Development|49000 |\n|Sophia Loren   |107          |Customer Service        |56000 |\n+---------------+-------------+------------------------+------+\nonly showing top 20 rows\n\n"
     ]
    }
   ],
   "source": [
    "df_joined.select(\"e.name\", \"d.department_id\", \"d.department_name\", \"e.salary\").show(truncate=False)"
   ]
  },
  {
   "cell_type": "code",
   "execution_count": 0,
   "metadata": {
    "application/vnd.databricks.v1+cell": {
     "cellMetadata": {
      "byteLimit": 2048000,
      "rowLimit": 10000
     },
     "inputWidgets": {},
     "nuid": "1379ab48-cc79-4658-a669-50cd118aa5f7",
     "showTitle": false,
     "tableResultSettingsMap": {},
     "title": ""
    }
   },
   "outputs": [],
   "source": [
    "# joins with cascading conditions\n",
    "# join with department_id and only for departments 101 or 102\n",
    "# join with not null/null conditions\n",
    "\n",
    "df_final = emp.join(dept, how='left_outer',\n",
    "                    on=(emp.department_id==dept.department_id) & ((emp.department_id=='101')|(emp.department_id=='102')) & (emp.salary.isNotNull())\n",
    "                    )\n",
    "\n",
    "# df_final = emp.join(dept, how='left_outer',\n",
    "#                     on=(emp.department_id==dept.department_id) & ((emp.department_id=='101')|(emp.department_id=='102')) & (emp.salary.isNull())\n",
    "#                     )"
   ]
  },
  {
   "cell_type": "code",
   "execution_count": 0,
   "metadata": {
    "application/vnd.databricks.v1+cell": {
     "cellMetadata": {
      "byteLimit": 2048000,
      "rowLimit": 10000
     },
     "inputWidgets": {},
     "nuid": "2b6112be-6f06-40cb-a42d-a23656ad7fa0",
     "showTitle": false,
     "tableResultSettingsMap": {},
     "title": ""
    }
   },
   "outputs": [
    {
     "output_type": "stream",
     "name": "stdout",
     "output_type": "stream",
     "text": [
      "+-----------+-------------+---------------+---+------+------+----------+-------------+---------------+----+-------+-------+\n|employee_id|department_id|name           |age|gender|salary|hire_date |department_id|department_name|city|country|budget |\n+-----------+-------------+---------------+---+------+------+----------+-------------+---------------+----+-------+-------+\n|001        |101          |Alice Johnson  |29 |Female|52000 |2016-03-15|101          |Sales          |NYC |US     |1000000|\n|002        |102          |Bob Smith      |34 |Male  |48000 |2017-07-20|102          |Marketing      |LA  |US     |900000 |\n|003        |103          |Charlie Brown  |26 |Male  |47000 |2018-02-01|NULL         |NULL           |NULL|NULL   |NULL   |\n|004        |104          |Diana Prince   |31 |Female|55000 |2015-11-12|NULL         |NULL           |NULL|NULL   |NULL   |\n|005        |101          |Ethan Hunt     |28 |Male  |49500 |2019-05-08|101          |Sales          |NYC |US     |1000000|\n|006        |102          |Fiona Gallagher|27 |Female|51000 |2016-09-10|102          |Marketing      |LA  |US     |900000 |\n|007        |103          |George Costanza|33 |Male  |46000 |2015-01-01|NULL         |NULL           |NULL|NULL   |NULL   |\n|008        |107          |Hannah Montana |25 |Female|53000 |2017-04-14|NULL         |NULL           |NULL|NULL   |NULL   |\n|009        |107          |Isaac Newton   |35 |Male  |60000 |2018-10-25|NULL         |NULL           |NULL|NULL   |NULL   |\n|010        |105          |Jessica Jones  |32 |Female|58000 |2016-06-30|NULL         |NULL           |NULL|NULL   |NULL   |\n|010        |105          |Jessica Jones  |32 |Female|58000 |2016-06-30|NULL         |NULL           |NULL|NULL   |NULL   |\n|011        |106          |Kevin Malone   |36 |Male  |49000 |2015-03-18|NULL         |NULL           |NULL|NULL   |NULL   |\n|012        |107          |Laura Croft    |30 |Female|57000 |2017-08-22|NULL         |NULL           |NULL|NULL   |NULL   |\n|013        |101          |Mike Ross      |29 |Male  |51500 |2019-01-05|101          |Sales          |NYC |US     |1000000|\n|014        |102          |Nancy Drew     |27 |Female|54000 |2016-12-09|102          |Marketing      |LA  |US     |900000 |\n|015        |103          |Oscar Martinez |28 |      |45500 |2018-03-19|NULL         |NULL           |NULL|NULL   |NULL   |\n|016        |104          |Pam Beesly     |31 |Female|47500 |2019-07-13|NULL         |NULL           |NULL|NULL   |NULL   |\n|017        |105          |Quinn Fabray   |26 |Female|51000 |2015-11-05|NULL         |NULL           |NULL|NULL   |NULL   |\n|018        |106          |Ryan Howard    |34 |Male  |49000 |2016-04-21|NULL         |NULL           |NULL|NULL   |NULL   |\n|019        |107          |Sophia Loren   |30 |Female|56000 |2018-09-17|NULL         |NULL           |NULL|NULL   |NULL   |\n+-----------+-------------+---------------+---+------+------+----------+-------------+---------------+----+-------+-------+\nonly showing top 20 rows\n\n"
     ]
    }
   ],
   "source": [
    "df_final.show(truncate=False)"
   ]
  },
  {
   "cell_type": "code",
   "execution_count": 0,
   "metadata": {
    "application/vnd.databricks.v1+cell": {
     "cellMetadata": {},
     "inputWidgets": {},
     "nuid": "cd99b30e-87a8-4df7-816a-42010bce21ec",
     "showTitle": false,
     "tableResultSettingsMap": {},
     "title": ""
    }
   },
   "outputs": [],
   "source": []
  }
 ],
 "metadata": {
  "application/vnd.databricks.v1+notebook": {
   "dashboards": [],
   "environmentMetadata": null,
   "language": "python",
   "notebookMetadata": {
    "pythonIndentUnit": 4
   },
   "notebookName": "07_join_and_data_partitions",
   "widgets": {}
  }
 },
 "nbformat": 4,
 "nbformat_minor": 0
}
