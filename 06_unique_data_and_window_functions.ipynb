{
 "cells": [
  {
   "cell_type": "code",
   "execution_count": 0,
   "metadata": {
    "application/vnd.databricks.v1+cell": {
     "cellMetadata": {
      "byteLimit": 2048000,
      "rowLimit": 10000
     },
     "inputWidgets": {},
     "nuid": "eb1da2dc-7c91-4afb-ac13-aaebcdfa01f5",
     "showTitle": false,
     "tableResultSettingsMap": {},
     "title": ""
    }
   },
   "outputs": [],
   "source": [
    "# import SparkSession from spark SQL\n",
    "\n",
    "from pyspark.sql import SparkSession\n",
    "\n",
    "spark = (\n",
    "    SparkSession\n",
    "    .builder\n",
    "    .appName('Basic Transformation - I')\n",
    "    .getOrCreate()\n",
    ")"
   ]
  },
  {
   "cell_type": "code",
   "execution_count": 0,
   "metadata": {
    "application/vnd.databricks.v1+cell": {
     "cellMetadata": {
      "byteLimit": 2048000,
      "rowLimit": 10000
     },
     "inputWidgets": {},
     "nuid": "48d9fa2b-1c64-4237-99b9-840ed477004c",
     "showTitle": false,
     "tableResultSettingsMap": {},
     "title": ""
    }
   },
   "outputs": [
    {
     "output_type": "execute_result",
     "data": {
      "text/html": [
       "\n",
       "            <div>\n",
       "                <p><b>SparkSession - hive</b></p>\n",
       "                \n",
       "        <div>\n",
       "            <p><b>SparkContext</b></p>\n",
       "\n",
       "            <p><a href=\"/?o=4357292740597027#setting/sparkui/1211-020203-eslparhw/driver-3601042575087756901\">Spark UI</a></p>\n",
       "\n",
       "            <dl>\n",
       "              <dt>Version</dt>\n",
       "                <dd><code>v3.5.0</code></dd>\n",
       "              <dt>Master</dt>\n",
       "                <dd><code>local[8]</code></dd>\n",
       "              <dt>AppName</dt>\n",
       "                <dd><code>Databricks Shell</code></dd>\n",
       "            </dl>\n",
       "        </div>\n",
       "        \n",
       "            </div>\n",
       "        "
      ],
      "text/plain": [
       "<pyspark.sql.session.SparkSession at 0x7fb6ecbdf2b0>"
      ]
     },
     "execution_count": 2,
     "metadata": {},
     "output_type": "execute_result"
    }
   ],
   "source": [
    "spark"
   ]
  },
  {
   "cell_type": "code",
   "execution_count": 0,
   "metadata": {
    "application/vnd.databricks.v1+cell": {
     "cellMetadata": {
      "byteLimit": 2048000,
      "rowLimit": 10000
     },
     "inputWidgets": {},
     "nuid": "89ee8906-c643-4e31-9110-f099dd488419",
     "showTitle": false,
     "tableResultSettingsMap": {},
     "title": ""
    }
   },
   "outputs": [],
   "source": [
    "# emp data and schema\n",
    "\n",
    "emp_data = [\n",
    "    ['001', '101', 'Alice Johnson', '29', 'Female', '52000', '2016-03-15'],\n",
    "    ['002', '102', 'Bob Smith', '34', 'Male', '48000', '2017-07-20'],\n",
    "    ['003', '103', 'Charlie Brown', '26', 'Male', '47000', '2018-02-01'],\n",
    "    ['004', '104', 'Diana Prince', '31', 'Female', '55000', '2015-11-12'],\n",
    "    ['005', '101', 'Ethan Hunt', '28', 'Male', '49500', '2019-05-08'],\n",
    "    ['006', '102', 'Fiona Gallagher', '27', 'Female', '51000', '2016-09-10'],\n",
    "    ['007', '103', 'George Costanza', '33', 'Male', '46000', '2015-01-01'],\n",
    "    ['008', '108', 'Hannah Montana', '25', 'Female', '53000', '2017-04-14'],\n",
    "    ['009', '109', 'Isaac Newton', '35', 'Male', '60000', '2018-10-25'],\n",
    "    ['010', '110', 'Jessica Jones', '32', 'Female', '58000', '2016-06-30'],\n",
    "    ['010', '110', 'Jessica Jones', '32', 'Female', '58000', '2016-06-30'],\n",
    "    ['011', '111', 'Kevin Malone', '36', 'Male', '49000', '2015-03-18'],\n",
    "    ['012', '111', 'Laura Croft', '30', 'Female', '57000', '2017-08-22'],\n",
    "    ['013', '111', 'Mike Ross', '29', 'Male', '51500', '2019-01-05'],\n",
    "    ['014', '115', 'Nancy Drew', '27', 'Female', '54000', '2016-12-09'],\n",
    "    ['015', '115', 'Oscar Martinez', '28', '', '45500', '2018-03-19'],\n",
    "    ['016', '113', 'Pam Beesly', '31', 'Female', '47500', '2019-07-13'],\n",
    "    ['017', '107', 'Quinn Fabray', '26', 'Female', '51000', '2015-11-05'],\n",
    "    ['018', '109', 'Ryan Howard', '34', 'Male', '49000', '2016-04-21'],\n",
    "    ['019', '109', 'Sophia Loren', '30', 'Female', '56000', '2018-09-17'],\n",
    "    ['020', '120', 'Toby Flenderson', '35', 'Male', '45000', '2017-02-08'],\n",
    "    ['020', '120', 'Toby Flenderson', '35', 'Male', '45000', '2017-02-08']\n",
    "]\n",
    "\n",
    "emp_schema = \"employee_id string, department_id string, name string, age string, gender string, salary string, hire_date string\""
   ]
  },
  {
   "cell_type": "code",
   "execution_count": 0,
   "metadata": {
    "application/vnd.databricks.v1+cell": {
     "cellMetadata": {
      "byteLimit": 2048000,
      "rowLimit": 10000
     },
     "inputWidgets": {},
     "nuid": "e3a7df4b-e725-4f8b-95a6-03f5ad5a3425",
     "showTitle": false,
     "tableResultSettingsMap": {},
     "title": ""
    }
   },
   "outputs": [],
   "source": [
    "emp = spark.createDataFrame(data=emp_data, schema=emp_schema)"
   ]
  },
  {
   "cell_type": "code",
   "execution_count": 0,
   "metadata": {
    "application/vnd.databricks.v1+cell": {
     "cellMetadata": {
      "byteLimit": 2048000,
      "rowLimit": 10000
     },
     "inputWidgets": {},
     "nuid": "8c3f6e58-ade5-4dd6-a69f-9d97ebb78f18",
     "showTitle": false,
     "tableResultSettingsMap": {},
     "title": ""
    }
   },
   "outputs": [
    {
     "output_type": "stream",
     "name": "stdout",
     "output_type": "stream",
     "text": [
      "root\n |-- employee_id: string (nullable = true)\n |-- department_id: string (nullable = true)\n |-- name: string (nullable = true)\n |-- age: string (nullable = true)\n |-- gender: string (nullable = true)\n |-- salary: string (nullable = true)\n |-- hire_date: string (nullable = true)\n\n"
     ]
    }
   ],
   "source": [
    "emp.printSchema()"
   ]
  },
  {
   "cell_type": "code",
   "execution_count": 0,
   "metadata": {
    "application/vnd.databricks.v1+cell": {
     "cellMetadata": {
      "byteLimit": 2048000,
      "rowLimit": 10000
     },
     "inputWidgets": {},
     "nuid": "b2f799e1-8a9e-4af6-bdd7-c75f71d3563e",
     "showTitle": false,
     "tableResultSettingsMap": {},
     "title": ""
    }
   },
   "outputs": [],
   "source": [
    "# Get unique data from data frame\n",
    "# select distinct emp.* from emp\n",
    "\n",
    "emp_unique = emp.distinct().orderBy('employee_id')"
   ]
  },
  {
   "cell_type": "code",
   "execution_count": 0,
   "metadata": {
    "application/vnd.databricks.v1+cell": {
     "cellMetadata": {
      "byteLimit": 2048000,
      "rowLimit": 10000
     },
     "inputWidgets": {},
     "nuid": "6f1e72dd-8485-49f0-93dd-ead68b6f7e6c",
     "showTitle": false,
     "tableResultSettingsMap": {},
     "title": ""
    }
   },
   "outputs": [
    {
     "output_type": "stream",
     "name": "stdout",
     "output_type": "stream",
     "text": [
      "+-----------+-------------+---------------+---+------+------+----------+\n|employee_id|department_id|           name|age|gender|salary| hire_date|\n+-----------+-------------+---------------+---+------+------+----------+\n|        001|          101|  Alice Johnson| 29|Female| 52000|2016-03-15|\n|        002|          102|      Bob Smith| 34|  Male| 48000|2017-07-20|\n|        003|          103|  Charlie Brown| 26|  Male| 47000|2018-02-01|\n|        004|          104|   Diana Prince| 31|Female| 55000|2015-11-12|\n|        005|          101|     Ethan Hunt| 28|  Male| 49500|2019-05-08|\n|        006|          102|Fiona Gallagher| 27|Female| 51000|2016-09-10|\n|        007|          103|George Costanza| 33|  Male| 46000|2015-01-01|\n|        008|          108| Hannah Montana| 25|Female| 53000|2017-04-14|\n|        009|          109|   Isaac Newton| 35|  Male| 60000|2018-10-25|\n|        010|          110|  Jessica Jones| 32|Female| 58000|2016-06-30|\n|        011|          111|   Kevin Malone| 36|  Male| 49000|2015-03-18|\n|        012|          111|    Laura Croft| 30|Female| 57000|2017-08-22|\n|        013|          111|      Mike Ross| 29|  Male| 51500|2019-01-05|\n|        014|          115|     Nancy Drew| 27|Female| 54000|2016-12-09|\n|        015|          115| Oscar Martinez| 28|      | 45500|2018-03-19|\n|        016|          113|     Pam Beesly| 31|Female| 47500|2019-07-13|\n|        017|          107|   Quinn Fabray| 26|Female| 51000|2015-11-05|\n|        018|          109|    Ryan Howard| 34|  Male| 49000|2016-04-21|\n|        019|          109|   Sophia Loren| 30|Female| 56000|2018-09-17|\n|        020|          120|Toby Flenderson| 35|  Male| 45000|2017-02-08|\n+-----------+-------------+---------------+---+------+------+----------+\n\n"
     ]
    }
   ],
   "source": [
    "emp_unique.show()"
   ]
  },
  {
   "cell_type": "code",
   "execution_count": 0,
   "metadata": {
    "application/vnd.databricks.v1+cell": {
     "cellMetadata": {
      "byteLimit": 2048000,
      "rowLimit": 10000
     },
     "inputWidgets": {},
     "nuid": "c03007ea-1fa7-49fd-959f-5418055e4ed6",
     "showTitle": false,
     "tableResultSettingsMap": {},
     "title": ""
    }
   },
   "outputs": [],
   "source": [
    "# unique of department_id\n",
    "# select distinct department_id from emp\n",
    "\n",
    "emp_dept_id = emp.select('department_id').distinct()"
   ]
  },
  {
   "cell_type": "code",
   "execution_count": 0,
   "metadata": {
    "application/vnd.databricks.v1+cell": {
     "cellMetadata": {
      "byteLimit": 2048000,
      "rowLimit": 10000
     },
     "inputWidgets": {},
     "nuid": "cc9f2144-f64b-478e-8a8c-b88c61163de2",
     "showTitle": false,
     "tableResultSettingsMap": {},
     "title": ""
    }
   },
   "outputs": [
    {
     "output_type": "stream",
     "name": "stdout",
     "output_type": "stream",
     "text": [
      "+-------------+\n|department_id|\n+-------------+\n|          101|\n|          102|\n|          104|\n|          103|\n|          108|\n|          110|\n|          109|\n|          111|\n|          115|\n|          113|\n|          107|\n|          120|\n+-------------+\n\n"
     ]
    }
   ],
   "source": [
    "emp_dept_id.show()"
   ]
  },
  {
   "cell_type": "code",
   "execution_count": 0,
   "metadata": {
    "application/vnd.databricks.v1+cell": {
     "cellMetadata": {
      "byteLimit": 2048000,
      "rowLimit": 10000
     },
     "inputWidgets": {},
     "nuid": "fa5f95ab-b5d1-4dda-aca4-e930a3b7d84d",
     "showTitle": false,
     "tableResultSettingsMap": {},
     "title": ""
    }
   },
   "outputs": [],
   "source": [
    "# window functions\n",
    "# select *, max(salary), over(partition by department_id order_by salay desc) as max_salary from emp_unique\n",
    "from pyspark.sql.window import Window\n",
    "from pyspark.sql.functions import max, col, desc, asc\n",
    "\n",
    "window_spec = Window.partitionBy(col(\"department_id\")).orderBy(col('salary').desc())\n",
    "max_func = max(col('salary')).over(window_spec)\n",
    "\n",
    "emp_1 = emp.withColumn('max_salary', max_func)"
   ]
  },
  {
   "cell_type": "code",
   "execution_count": 0,
   "metadata": {
    "application/vnd.databricks.v1+cell": {
     "cellMetadata": {
      "byteLimit": 2048000,
      "rowLimit": 10000
     },
     "inputWidgets": {},
     "nuid": "e8102d49-6c7b-440a-a700-f2729f6c5edb",
     "showTitle": false,
     "tableResultSettingsMap": {},
     "title": ""
    }
   },
   "outputs": [
    {
     "output_type": "stream",
     "name": "stdout",
     "output_type": "stream",
     "text": [
      "+-----------+-------------+---------------+---+------+------+----------+----------+\n|employee_id|department_id|           name|age|gender|salary| hire_date|max_salary|\n+-----------+-------------+---------------+---+------+------+----------+----------+\n|        001|          101|  Alice Johnson| 29|Female| 52000|2016-03-15|     52000|\n|        005|          101|     Ethan Hunt| 28|  Male| 49500|2019-05-08|     52000|\n|        006|          102|Fiona Gallagher| 27|Female| 51000|2016-09-10|     51000|\n|        002|          102|      Bob Smith| 34|  Male| 48000|2017-07-20|     51000|\n|        003|          103|  Charlie Brown| 26|  Male| 47000|2018-02-01|     47000|\n|        007|          103|George Costanza| 33|  Male| 46000|2015-01-01|     47000|\n|        004|          104|   Diana Prince| 31|Female| 55000|2015-11-12|     55000|\n|        017|          107|   Quinn Fabray| 26|Female| 51000|2015-11-05|     51000|\n|        008|          108| Hannah Montana| 25|Female| 53000|2017-04-14|     53000|\n|        009|          109|   Isaac Newton| 35|  Male| 60000|2018-10-25|     60000|\n|        019|          109|   Sophia Loren| 30|Female| 56000|2018-09-17|     60000|\n|        018|          109|    Ryan Howard| 34|  Male| 49000|2016-04-21|     60000|\n|        010|          110|  Jessica Jones| 32|Female| 58000|2016-06-30|     58000|\n|        010|          110|  Jessica Jones| 32|Female| 58000|2016-06-30|     58000|\n|        012|          111|    Laura Croft| 30|Female| 57000|2017-08-22|     57000|\n|        013|          111|      Mike Ross| 29|  Male| 51500|2019-01-05|     57000|\n|        011|          111|   Kevin Malone| 36|  Male| 49000|2015-03-18|     57000|\n|        016|          113|     Pam Beesly| 31|Female| 47500|2019-07-13|     47500|\n|        014|          115|     Nancy Drew| 27|Female| 54000|2016-12-09|     54000|\n|        015|          115| Oscar Martinez| 28|      | 45500|2018-03-19|     54000|\n+-----------+-------------+---------------+---+------+------+----------+----------+\nonly showing top 20 rows\n\n"
     ]
    }
   ],
   "source": [
    "emp_1.show()"
   ]
  },
  {
   "cell_type": "code",
   "execution_count": 0,
   "metadata": {
    "application/vnd.databricks.v1+cell": {
     "cellMetadata": {
      "byteLimit": 2048000,
      "rowLimit": 10000
     },
     "inputWidgets": {},
     "nuid": "91aec7f8-2bf2-4e5e-96d3-992b35599035",
     "showTitle": false,
     "tableResultSettingsMap": {},
     "title": ""
    }
   },
   "outputs": [],
   "source": [
    "# window functions - 2nd highest salary of each department\n",
    "# select *, row_number() over(partition by department_id order by salary desc) as rn from emp_unique where rn = 2\n",
    "from pyspark.sql.window import Window\n",
    "from pyspark.sql.functions import max, col, desc, asc, row_number\n",
    "\n",
    "window_spec = Window.partitionBy(col(\"department_id\")).orderBy(col('salary').desc())\n",
    "# max_func = max(col('salary')).over(window_spec)\n",
    "rn = row_number().over(window_spec)\n",
    "\n",
    "# emp_1 = emp.withColumn('max_salary', max_func)\n",
    "emp_2 = emp.withColumn('rn', rn).where('rn = 2')\n"
   ]
  },
  {
   "cell_type": "code",
   "execution_count": 0,
   "metadata": {
    "application/vnd.databricks.v1+cell": {
     "cellMetadata": {
      "byteLimit": 2048000,
      "rowLimit": 10000
     },
     "inputWidgets": {},
     "nuid": "9bb82fcc-f25a-457a-8a7c-2fc99f50d700",
     "showTitle": false,
     "tableResultSettingsMap": {},
     "title": ""
    }
   },
   "outputs": [
    {
     "output_type": "stream",
     "name": "stdout",
     "output_type": "stream",
     "text": [
      "+-----------+-------------+---------------+---+------+------+----------+---+\n|employee_id|department_id|           name|age|gender|salary| hire_date| rn|\n+-----------+-------------+---------------+---+------+------+----------+---+\n|        005|          101|     Ethan Hunt| 28|  Male| 49500|2019-05-08|  2|\n|        002|          102|      Bob Smith| 34|  Male| 48000|2017-07-20|  2|\n|        007|          103|George Costanza| 33|  Male| 46000|2015-01-01|  2|\n|        019|          109|   Sophia Loren| 30|Female| 56000|2018-09-17|  2|\n|        010|          110|  Jessica Jones| 32|Female| 58000|2016-06-30|  2|\n|        013|          111|      Mike Ross| 29|  Male| 51500|2019-01-05|  2|\n|        015|          115| Oscar Martinez| 28|      | 45500|2018-03-19|  2|\n|        020|          120|Toby Flenderson| 35|  Male| 45000|2017-02-08|  2|\n+-----------+-------------+---------------+---+------+------+----------+---+\n\n"
     ]
    }
   ],
   "source": [
    "emp_2.show()"
   ]
  },
  {
   "cell_type": "code",
   "execution_count": 0,
   "metadata": {
    "application/vnd.databricks.v1+cell": {
     "cellMetadata": {
      "byteLimit": 2048000,
      "rowLimit": 10000
     },
     "inputWidgets": {},
     "nuid": "90fa796c-ce36-4951-9d93-f6058081ab8a",
     "showTitle": false,
     "tableResultSettingsMap": {},
     "title": ""
    }
   },
   "outputs": [],
   "source": [
    "# window functions using expr\n",
    "# select *, row_number() over(partition by department_id order by salary desc) as rn from emp_unique where rn = 2\n",
    "from pyspark.sql.functions import expr\n",
    "\n",
    "emp_3 = emp.withColumn('rn', expr(\"row_number() over(partition by department_id order by salary desc)\")).where('rn = 2')\n"
   ]
  },
  {
   "cell_type": "code",
   "execution_count": 0,
   "metadata": {
    "application/vnd.databricks.v1+cell": {
     "cellMetadata": {
      "byteLimit": 2048000,
      "rowLimit": 10000
     },
     "inputWidgets": {},
     "nuid": "e3eb0834-50ac-4964-9297-464ec4a54dc2",
     "showTitle": false,
     "tableResultSettingsMap": {},
     "title": ""
    }
   },
   "outputs": [
    {
     "output_type": "stream",
     "name": "stdout",
     "output_type": "stream",
     "text": [
      "+-----------+-------------+---------------+---+------+------+----------+---+\n|employee_id|department_id|           name|age|gender|salary| hire_date| rn|\n+-----------+-------------+---------------+---+------+------+----------+---+\n|        005|          101|     Ethan Hunt| 28|  Male| 49500|2019-05-08|  2|\n|        002|          102|      Bob Smith| 34|  Male| 48000|2017-07-20|  2|\n|        007|          103|George Costanza| 33|  Male| 46000|2015-01-01|  2|\n|        019|          109|   Sophia Loren| 30|Female| 56000|2018-09-17|  2|\n|        010|          110|  Jessica Jones| 32|Female| 58000|2016-06-30|  2|\n|        013|          111|      Mike Ross| 29|  Male| 51500|2019-01-05|  2|\n|        015|          115| Oscar Martinez| 28|      | 45500|2018-03-19|  2|\n|        020|          120|Toby Flenderson| 35|  Male| 45000|2017-02-08|  2|\n+-----------+-------------+---------------+---+------+------+----------+---+\n\n"
     ]
    }
   ],
   "source": [
    "emp_3.show()"
   ]
  },
  {
   "cell_type": "code",
   "execution_count": 0,
   "metadata": {
    "application/vnd.databricks.v1+cell": {
     "cellMetadata": {
      "byteLimit": 2048000,
      "rowLimit": 10000
     },
     "inputWidgets": {},
     "nuid": "43447557-6786-4554-a7ef-4f0c1a2a750d",
     "showTitle": false,
     "tableResultSettingsMap": {},
     "title": ""
    }
   },
   "outputs": [],
   "source": []
  }
 ],
 "metadata": {
  "application/vnd.databricks.v1+notebook": {
   "dashboards": [],
   "environmentMetadata": null,
   "language": "python",
   "notebookMetadata": {
    "pythonIndentUnit": 4
   },
   "notebookName": "06_unique_data_and_window_functions",
   "widgets": {}
  }
 },
 "nbformat": 4,
 "nbformat_minor": 0
}
