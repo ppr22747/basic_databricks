{
 "cells": [
  {
   "cell_type": "code",
   "execution_count": 0,
   "metadata": {
    "application/vnd.databricks.v1+cell": {
     "cellMetadata": {
      "byteLimit": 2048000,
      "rowLimit": 10000
     },
     "inputWidgets": {},
     "nuid": "a9590b49-57a8-4f02-b41f-41d910ddbe2e",
     "showTitle": false,
     "tableResultSettingsMap": {},
     "title": ""
    }
   },
   "outputs": [
    {
     "output_type": "execute_result",
     "data": {
      "text/html": [
       "\n",
       "            <div>\n",
       "                <p><b>SparkSession - hive</b></p>\n",
       "                \n",
       "        <div>\n",
       "            <p><b>SparkContext</b></p>\n",
       "\n",
       "            <p><a href=\"/?o=4357292740597027#setting/sparkui/1211-101024-suoh4jb4/driver-6764333892182644668\">Spark UI</a></p>\n",
       "\n",
       "            <dl>\n",
       "              <dt>Version</dt>\n",
       "                <dd><code>v3.5.0</code></dd>\n",
       "              <dt>Master</dt>\n",
       "                <dd><code>local[8]</code></dd>\n",
       "              <dt>AppName</dt>\n",
       "                <dd><code>Databricks Shell</code></dd>\n",
       "            </dl>\n",
       "        </div>\n",
       "        \n",
       "            </div>\n",
       "        "
      ],
      "text/plain": [
       "<pyspark.sql.session.SparkSession at 0x7f33fb3d2ce0>"
      ]
     },
     "execution_count": 2,
     "metadata": {},
     "output_type": "execute_result"
    }
   ],
   "source": [
    "# SparkSession\n",
    "from pyspark.sql import SparkSession\n",
    "\n",
    "spark = (\n",
    "    SparkSession\n",
    "    .builder\n",
    "    .appName(\"Reading Complex Data Formats\")\n",
    "    .master('local[*]')\n",
    "    .getOrCreate()\n",
    ")\n",
    "\n",
    "spark"
   ]
  },
  {
   "cell_type": "code",
   "execution_count": 0,
   "metadata": {
    "application/vnd.databricks.v1+cell": {
     "cellMetadata": {
      "byteLimit": 2048000,
      "rowLimit": 10000
     },
     "inputWidgets": {},
     "nuid": "4b6ebdc5-5f7d-4b71-8a37-d2d77f87b2ef",
     "showTitle": false,
     "tableResultSettingsMap": {},
     "title": ""
    }
   },
   "outputs": [],
   "source": [
    "# Read parquet data\n",
    "df_parquet = spark.read.format('parquet').load('/FileStore/tables/emp_perf.parquet')"
   ]
  },
  {
   "cell_type": "markdown",
   "metadata": {
    "application/vnd.databricks.v1+cell": {
     "cellMetadata": {},
     "inputWidgets": {},
     "nuid": "2e5b3b06-5e5e-48d0-a936-c84fe65d9077",
     "showTitle": false,
     "tableResultSettingsMap": {},
     "title": ""
    }
   },
   "source": [
    "##### Parquet option\n",
    "###### https://spark.apache.org/docs/latest/sql-data-sources-parquet.html"
   ]
  },
  {
   "cell_type": "code",
   "execution_count": 0,
   "metadata": {
    "application/vnd.databricks.v1+cell": {
     "cellMetadata": {
      "byteLimit": 2048000,
      "rowLimit": 10000
     },
     "inputWidgets": {},
     "nuid": "a2b70f8c-59c8-4be9-aa41-4a79a56967da",
     "showTitle": false,
     "tableResultSettingsMap": {},
     "title": ""
    }
   },
   "outputs": [
    {
     "output_type": "stream",
     "name": "stdout",
     "output_type": "stream",
     "text": [
      "root\n |-- ID: long (nullable = true)\n |-- Name: string (nullable = true)\n |-- Age: long (nullable = true)\n |-- Gender: string (nullable = true)\n |-- Department: string (nullable = true)\n |-- Salary: long (nullable = true)\n |-- Joining Date: date (nullable = true)\n |-- Performance Score: double (nullable = true)\n |-- Experience: long (nullable = true)\n |-- Status: string (nullable = true)\n |-- Location: string (nullable = true)\n |-- Session: string (nullable = true)\n\n"
     ]
    }
   ],
   "source": [
    "df_parquet.printSchema()"
   ]
  },
  {
   "cell_type": "code",
   "execution_count": 0,
   "metadata": {
    "application/vnd.databricks.v1+cell": {
     "cellMetadata": {
      "byteLimit": 2048000,
      "rowLimit": 10000
     },
     "inputWidgets": {},
     "nuid": "e606fe20-6bc9-4032-aed0-3d521b7db264",
     "showTitle": false,
     "tableResultSettingsMap": {},
     "title": ""
    }
   },
   "outputs": [
    {
     "output_type": "stream",
     "name": "stdout",
     "output_type": "stream",
     "text": [
      "+---+------------------+---+------+----------+------+------------+-----------------+----------+--------+-----------+-------+\n| ID|              Name|Age|Gender|Department|Salary|Joining Date|Performance Score|Experience|  Status|   Location|Session|\n+---+------------------+---+------+----------+------+------------+-----------------+----------+--------+-----------+-------+\n|  1|      Cory Escobar| 48|Female|        HR|  5641|  2015-05-03|              2.0|        16|  Active|   New York|  Night|\n|  2|   Timothy Sanchez| 25| Other|     Sales|  4249|  2020-11-09|              2.0|        11|Inactive|Los Angeles|Evening|\n|  3|      Chad Nichols| 57| Other|     Sales|  3058|  2019-02-12|             NULL|         1|Inactive|   New York|Morning|\n|  4|Christine Williams| 58|Female|        IT|  5895|  2017-09-08|              2.0|        13|Inactive|Los Angeles|Evening|\n|  5|      Amber Harris| 35| Other|        IT|  4317|  2020-02-15|              5.0|        16|Inactive|   New York|Evening|\n|  6|       Ashley Howe| 29|Female|        HR|  2591|  2016-06-24|              1.0|         6|  Active|    Chicago|Evening|\n|  7|       David Olson| 39|Female|     Sales|  6826|  2023-05-11|             NULL|         4|  Active|   New York|  Night|\n|  8|      Amanda Baker| 52| Other|        HR|  6285|  2015-04-01|             NULL|         8|Inactive|    Chicago|Evening|\n|  9|     Jeremy Wright| 63|Female|     Sales|  9862|  2024-02-07|             NULL|         3|Inactive|   New York|  Night|\n| 10|    Brian Faulkner| 30|  Male|        IT|  8202|  2018-05-26|              1.0|         9|  Active|Los Angeles|Morning|\n| 11|       Nicole Bell| 42|Female|     Sales|  5336|  2015-01-28|              3.0|         7|  Active|Los Angeles|Evening|\n| 12| Rodney Richardson| 60| Other|        HR|  6908|  2015-03-14|              4.0|        19|  Active|    Chicago|  Night|\n| 13|   Joshua Robinson| 61|  Male|        IT|  5688|  2020-06-21|             NULL|         4|Inactive|    Chicago|  Night|\n| 14| Benjamin Callahan| 34|  Male|        IT|  5593|  2019-06-23|             NULL|         2|Inactive|Los Angeles|  Night|\n| 15|Matthew Collins MD| 31|Female|     Sales|  8568|  2020-06-01|             NULL|        20|Inactive|Los Angeles|Evening|\n| 16|       Gary Cooley| 62|  Male|        HR|  5386|  2017-07-25|             NULL|         2|Inactive|    Chicago|Morning|\n| 17|    Jonathan Perez| 59|  Male|        HR|  6586|  2019-02-19|              3.0|         7|Inactive|Los Angeles|Evening|\n| 18|Jacqueline Randall| 31|Female|        HR|  3519|  2018-05-18|              4.0|         6|  Active|   New York|Morning|\n| 19|    Nancy Stephens| 38|  Male|        HR|  9061|  2017-07-16|              5.0|        16|Inactive|    Chicago|  Night|\n| 20|      Victoria Fox| 57|Female|        HR|  7251|  2023-06-07|             NULL|        10|  Active|Los Angeles|Evening|\n+---+------------------+---+------+----------+------+------------+-----------------+----------+--------+-----------+-------+\nonly showing top 20 rows\n\n"
     ]
    }
   ],
   "source": [
    "df_parquet.show()"
   ]
  },
  {
   "cell_type": "code",
   "execution_count": 0,
   "metadata": {
    "application/vnd.databricks.v1+cell": {
     "cellMetadata": {
      "byteLimit": 2048000,
      "rowLimit": 10000
     },
     "inputWidgets": {},
     "nuid": "09e43137-ca64-45f9-aaac-cbaa83e90755",
     "showTitle": false,
     "tableResultSettingsMap": {},
     "title": ""
    }
   },
   "outputs": [],
   "source": [
    "# Read ORC data\n",
    "df_orc = spark.read.format('orc').load('/FileStore/tables/emp_perf.orc')"
   ]
  },
  {
   "cell_type": "code",
   "execution_count": 0,
   "metadata": {
    "application/vnd.databricks.v1+cell": {
     "cellMetadata": {
      "byteLimit": 2048000,
      "rowLimit": 10000
     },
     "inputWidgets": {},
     "nuid": "8e594a09-718e-484e-8bb2-50921975494c",
     "showTitle": false,
     "tableResultSettingsMap": {},
     "title": ""
    }
   },
   "outputs": [
    {
     "output_type": "stream",
     "name": "stdout",
     "output_type": "stream",
     "text": [
      "root\n |-- ID: string (nullable = true)\n |-- Name: string (nullable = true)\n |-- Age: string (nullable = true)\n |-- Gender: string (nullable = true)\n |-- Department: string (nullable = true)\n |-- Salary: string (nullable = true)\n |-- Joining Date: string (nullable = true)\n |-- Performance Score: string (nullable = true)\n |-- Experience: string (nullable = true)\n |-- Status: string (nullable = true)\n |-- Location: string (nullable = true)\n |-- Session: string (nullable = true)\n\n"
     ]
    }
   ],
   "source": [
    "df_orc.printSchema()"
   ]
  },
  {
   "cell_type": "code",
   "execution_count": 0,
   "metadata": {
    "application/vnd.databricks.v1+cell": {
     "cellMetadata": {
      "byteLimit": 2048000,
      "rowLimit": 10000
     },
     "inputWidgets": {},
     "nuid": "426be569-213d-4066-b2ce-e9377e0b4d91",
     "showTitle": false,
     "tableResultSettingsMap": {},
     "title": ""
    }
   },
   "outputs": [
    {
     "output_type": "stream",
     "name": "stdout",
     "output_type": "stream",
     "text": [
      "+---+------------------+---+------+----------+------+------------+-----------------+----------+--------+-----------+-------+\n| ID|              Name|Age|Gender|Department|Salary|Joining Date|Performance Score|Experience|  Status|   Location|Session|\n+---+------------------+---+------+----------+------+------------+-----------------+----------+--------+-----------+-------+\n|  1|      Cory Escobar| 48|Female|        HR|  5641|  2015-05-03|              2.0|        16|  Active|   New York|  Night|\n|  2|   Timothy Sanchez| 25| Other|     Sales|  4249|  2020-11-09|              2.0|        11|Inactive|Los Angeles|Evening|\n|  3|      Chad Nichols| 57| Other|     Sales|  3058|  2019-02-12|             NULL|         1|Inactive|   New York|Morning|\n|  4|Christine Williams| 58|Female|        IT|  5895|  2017-09-08|              2.0|        13|Inactive|Los Angeles|Evening|\n|  5|      Amber Harris| 35| Other|        IT|  4317|  2020-02-15|              5.0|        16|Inactive|   New York|Evening|\n|  6|       Ashley Howe| 29|Female|        HR|  2591|  2016-06-24|              1.0|         6|  Active|    Chicago|Evening|\n|  7|       David Olson| 39|Female|     Sales|  6826|  2023-05-11|             NULL|         4|  Active|   New York|  Night|\n|  8|      Amanda Baker| 52| Other|        HR|  6285|  2015-04-01|             NULL|         8|Inactive|    Chicago|Evening|\n|  9|     Jeremy Wright| 63|Female|     Sales|  9862|  2024-02-07|             NULL|         3|Inactive|   New York|  Night|\n| 10|    Brian Faulkner| 30|  Male|        IT|  8202|  2018-05-26|              1.0|         9|  Active|Los Angeles|Morning|\n| 11|       Nicole Bell| 42|Female|     Sales|  5336|  2015-01-28|              3.0|         7|  Active|Los Angeles|Evening|\n| 12| Rodney Richardson| 60| Other|        HR|  6908|  2015-03-14|              4.0|        19|  Active|    Chicago|  Night|\n| 13|   Joshua Robinson| 61|  Male|        IT|  5688|  2020-06-21|             NULL|         4|Inactive|    Chicago|  Night|\n| 14| Benjamin Callahan| 34|  Male|        IT|  5593|  2019-06-23|             NULL|         2|Inactive|Los Angeles|  Night|\n| 15|Matthew Collins MD| 31|Female|     Sales|  8568|  2020-06-01|             NULL|        20|Inactive|Los Angeles|Evening|\n| 16|       Gary Cooley| 62|  Male|        HR|  5386|  2017-07-25|             NULL|         2|Inactive|    Chicago|Morning|\n| 17|    Jonathan Perez| 59|  Male|        HR|  6586|  2019-02-19|              3.0|         7|Inactive|Los Angeles|Evening|\n| 18|Jacqueline Randall| 31|Female|        HR|  3519|  2018-05-18|              4.0|         6|  Active|   New York|Morning|\n| 19|    Nancy Stephens| 38|  Male|        HR|  9061|  2017-07-16|              5.0|        16|Inactive|    Chicago|  Night|\n| 20|      Victoria Fox| 57|Female|        HR|  7251|  2023-06-07|             NULL|        10|  Active|Los Angeles|Evening|\n+---+------------------+---+------+----------+------+------------+-----------------+----------+--------+-----------+-------+\nonly showing top 20 rows\n\n"
     ]
    }
   ],
   "source": [
    "df_orc.show()"
   ]
  },
  {
   "cell_type": "code",
   "execution_count": 0,
   "metadata": {
    "application/vnd.databricks.v1+cell": {
     "cellMetadata": {
      "byteLimit": 2048000,
      "rowLimit": 10000
     },
     "inputWidgets": {},
     "nuid": "8bca906b-cf59-49c5-82af-b1df0e2dae85",
     "showTitle": false,
     "tableResultSettingsMap": {},
     "title": ""
    }
   },
   "outputs": [],
   "source": [
    "# Benefits of Columnar Storage\n",
    "\n",
    "# Let's create a simple Python decorator - (get_time) to get the execution timings\n",
    "# If you don't know about Python decorator - check out: https://www.geeksforgeeks.org/decorators-in-python\n",
    "\n",
    "import time\n",
    "\n",
    "def get_time(func):\n",
    "  def inner_get_time() -> str:\n",
    "    start_time = time.time()\n",
    "    func()\n",
    "    end_time = time.time()\n",
    "    return (f'Execution time: {(end_time - start_time)* 1000} ms')\n",
    "  print(inner_get_time())"
   ]
  },
  {
   "cell_type": "code",
   "execution_count": 0,
   "metadata": {
    "application/vnd.databricks.v1+cell": {
     "cellMetadata": {
      "byteLimit": 2048000,
      "rowLimit": 10000
     },
     "inputWidgets": {},
     "nuid": "4f4eebe7-a440-4f02-af9a-0e46dee9192c",
     "showTitle": false,
     "tableResultSettingsMap": {},
     "title": ""
    }
   },
   "outputs": [
    {
     "output_type": "stream",
     "name": "stdout",
     "output_type": "stream",
     "text": [
      "Execution time: 1224.7345447540283 ms\n"
     ]
    }
   ],
   "source": [
    "@get_time\n",
    "def x():\n",
    "  df = spark.read.format('parquet').load('/FileStore/tables/emp_perf.parquet')\n",
    "  df.count()"
   ]
  },
  {
   "cell_type": "code",
   "execution_count": 0,
   "metadata": {
    "application/vnd.databricks.v1+cell": {
     "cellMetadata": {
      "byteLimit": 2048000,
      "rowLimit": 10000
     },
     "inputWidgets": {},
     "nuid": "010b4ed7-bbb4-4a1d-a4b3-362e9587f991",
     "showTitle": false,
     "tableResultSettingsMap": {},
     "title": ""
    }
   },
   "outputs": [
    {
     "output_type": "stream",
     "name": "stdout",
     "output_type": "stream",
     "text": [
      "Execution time: 745.201587677002 ms\n"
     ]
    }
   ],
   "source": [
    "@get_time\n",
    "def x():\n",
    "  df = spark.read.format('parquet').load('/FileStore/tables/emp_perf.parquet')\n",
    "  df.select('Name').count()"
   ]
  },
  {
   "cell_type": "code",
   "execution_count": 0,
   "metadata": {
    "application/vnd.databricks.v1+cell": {
     "cellMetadata": {},
     "inputWidgets": {},
     "nuid": "da13b571-75be-4d19-b276-4c8ae1a87fd5",
     "showTitle": false,
     "tableResultSettingsMap": {},
     "title": ""
    }
   },
   "outputs": [],
   "source": [
    "# Recursive read\n",
    "sales_recursive\n",
    "|__ sales_1\\1.parquet\n",
    "|__ sales_1\\sales_2\\2.parquet"
   ]
  },
  {
   "cell_type": "code",
   "execution_count": 0,
   "metadata": {
    "application/vnd.databricks.v1+cell": {
     "cellMetadata": {},
     "inputWidgets": {},
     "nuid": "c3092f92-cd9e-491f-9450-c5f0a7b1c340",
     "showTitle": false,
     "tableResultSettingsMap": {},
     "title": ""
    }
   },
   "outputs": [],
   "source": [
    "df_1 = spark.read.format('parquet').option('recursiveFileLookup', True).load('data/input/sales_recursive/')\n",
    "df_1.show()"
   ]
  },
  {
   "cell_type": "code",
   "execution_count": 0,
   "metadata": {
    "application/vnd.databricks.v1+cell": {
     "cellMetadata": {},
     "inputWidgets": {},
     "nuid": "4bc307a8-9167-46d0-97d5-a71d201bcc32",
     "showTitle": false,
     "tableResultSettingsMap": {},
     "title": ""
    }
   },
   "outputs": [],
   "source": []
  }
 ],
 "metadata": {
  "application/vnd.databricks.v1+notebook": {
   "dashboards": [],
   "environmentMetadata": null,
   "language": "python",
   "notebookMetadata": {
    "pythonIndentUnit": 4
   },
   "notebookName": "09_reading_complex_data_format",
   "widgets": {}
  }
 },
 "nbformat": 4,
 "nbformat_minor": 0
}
