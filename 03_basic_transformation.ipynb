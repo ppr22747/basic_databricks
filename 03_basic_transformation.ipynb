{
 "cells": [
  {
   "cell_type": "code",
   "execution_count": 0,
   "metadata": {
    "application/vnd.databricks.v1+cell": {
     "cellMetadata": {
      "byteLimit": 2048000,
      "rowLimit": 10000
     },
     "inputWidgets": {},
     "nuid": "3de9df2a-39ef-4f17-8fa3-cf28030f781b",
     "showTitle": false,
     "tableResultSettingsMap": {},
     "title": ""
    }
   },
   "outputs": [],
   "source": [
    "# import SparkSession from spark SQL\n",
    "\n",
    "from pyspark.sql import SparkSession\n",
    "\n",
    "spark = (\n",
    "    SparkSession\n",
    "    .builder\n",
    "    .appName('Basic Transformation - I')\n",
    "    .getOrCreate()\n",
    ")"
   ]
  },
  {
   "cell_type": "code",
   "execution_count": 0,
   "metadata": {
    "application/vnd.databricks.v1+cell": {
     "cellMetadata": {
      "byteLimit": 2048000,
      "rowLimit": 10000
     },
     "inputWidgets": {},
     "nuid": "a7ebbe5b-a3c3-4d58-a16c-dc6c4f59d46c",
     "showTitle": false,
     "tableResultSettingsMap": {},
     "title": ""
    }
   },
   "outputs": [
    {
     "output_type": "execute_result",
     "data": {
      "text/html": [
       "\n",
       "            <div>\n",
       "                <p><b>SparkSession - hive</b></p>\n",
       "                \n",
       "        <div>\n",
       "            <p><b>SparkContext</b></p>\n",
       "\n",
       "            <p><a href=\"/?o=4357292740597027#setting/sparkui/1209-014317-o006025b/driver-5423072622675855848\">Spark UI</a></p>\n",
       "\n",
       "            <dl>\n",
       "              <dt>Version</dt>\n",
       "                <dd><code>v3.5.0</code></dd>\n",
       "              <dt>Master</dt>\n",
       "                <dd><code>local[8]</code></dd>\n",
       "              <dt>AppName</dt>\n",
       "                <dd><code>Databricks Shell</code></dd>\n",
       "            </dl>\n",
       "        </div>\n",
       "        \n",
       "            </div>\n",
       "        "
      ],
      "text/plain": [
       "<pyspark.sql.session.SparkSession at 0x7f45207ef190>"
      ]
     },
     "execution_count": 51,
     "metadata": {},
     "output_type": "execute_result"
    }
   ],
   "source": [
    "spark"
   ]
  },
  {
   "cell_type": "code",
   "execution_count": 0,
   "metadata": {
    "application/vnd.databricks.v1+cell": {
     "cellMetadata": {
      "byteLimit": 2048000,
      "rowLimit": 10000
     },
     "inputWidgets": {},
     "nuid": "f35f4883-7db2-400e-a607-c165994a4580",
     "showTitle": false,
     "tableResultSettingsMap": {},
     "title": ""
    }
   },
   "outputs": [],
   "source": [
    "# emp data and schema\n",
    "\n",
    "emp_data = [\n",
    "    ['001', '101', 'Alice Johnson', '29', 'Female', '52000', '2016-03-15'],\n",
    "    ['002', '102', 'Bob Smith', '34', 'Male', '48000', '2017-07-20'],\n",
    "    ['003', '103', 'Charlie Brown', '26', 'Male', '47000', '2018-02-01'],\n",
    "    ['004', '104', 'Diana Prince', '31', 'Female', '55000', '2015-11-12'],\n",
    "    ['005', '105', 'Ethan Hunt', '28', 'Male', '49500', '2019-05-08'],\n",
    "    ['006', '106', 'Fiona Gallagher', '27', 'Female', '51000', '2016-09-10'],\n",
    "    ['007', '107', 'George Costanza', '33', 'Male', '46000', '2015-01-01'],\n",
    "    ['008', '108', 'Hannah Montana', '25', 'Female', '53000', '2017-04-14'],\n",
    "    ['009', '109', 'Isaac Newton', '35', 'Male', '60000', '2018-10-25'],\n",
    "    ['010', '110', 'Jessica Jones', '32', 'Female', '58000', '2016-06-30'],\n",
    "    ['011', '111', 'Kevin Malone', '36', 'Male', '49000', '2015-03-18'],\n",
    "    ['012', '112', 'Laura Croft', '30', 'Female', '57000', '2017-08-22'],\n",
    "    ['013', '113', 'Mike Ross', '29', 'Male', '51500', '2019-01-05'],\n",
    "    ['014', '114', 'Nancy Drew', '27', 'Female', '54000', '2016-12-09'],\n",
    "    ['015', '115', 'Oscar Martinez', '28', 'Male', '45500', '2018-03-19'],\n",
    "    ['016', '116', 'Pam Beesly', '31', 'Female', '47500', '2019-07-13'],\n",
    "    ['017', '117', 'Quinn Fabray', '26', 'Female', '51000', '2015-11-05'],\n",
    "    ['018', '118', 'Ryan Howard', '34', 'Male', '49000', '2016-04-21'],\n",
    "    ['019', '119', 'Sophia Loren', '30', 'Female', '56000', '2018-09-17'],\n",
    "    ['020', '120', 'Toby Flenderson', '35', 'Male', '45000', '2017-02-08']\n",
    "]\n",
    "\n",
    "emp_schema = \"employee_id string, department_id string, name string, age string, gender string, salary string, hire_date string\""
   ]
  },
  {
   "cell_type": "code",
   "execution_count": 0,
   "metadata": {
    "application/vnd.databricks.v1+cell": {
     "cellMetadata": {
      "byteLimit": 2048000,
      "rowLimit": 10000
     },
     "inputWidgets": {},
     "nuid": "2df86d51-8a1b-4641-a441-36bd981e7adb",
     "showTitle": false,
     "tableResultSettingsMap": {},
     "title": ""
    }
   },
   "outputs": [],
   "source": [
    "emp = spark.createDataFrame(data=emp_data, schema=emp_schema)"
   ]
  },
  {
   "cell_type": "code",
   "execution_count": 0,
   "metadata": {
    "application/vnd.databricks.v1+cell": {
     "cellMetadata": {
      "byteLimit": 2048000,
      "rowLimit": 10000
     },
     "inputWidgets": {},
     "nuid": "239a58c2-ec3d-436d-8207-5a73c89a845d",
     "showTitle": false,
     "tableResultSettingsMap": {},
     "title": ""
    }
   },
   "outputs": [
    {
     "output_type": "stream",
     "name": "stdout",
     "output_type": "stream",
     "text": [
      "root\n |-- employee_id: string (nullable = true)\n |-- department_id: string (nullable = true)\n |-- name: string (nullable = true)\n |-- age: string (nullable = true)\n |-- gender: string (nullable = true)\n |-- salary: string (nullable = true)\n |-- hire_date: string (nullable = true)\n\n"
     ]
    }
   ],
   "source": [
    "emp.printSchema()"
   ]
  },
  {
   "cell_type": "code",
   "execution_count": 0,
   "metadata": {
    "application/vnd.databricks.v1+cell": {
     "cellMetadata": {
      "byteLimit": 2048000,
      "rowLimit": 10000
     },
     "inputWidgets": {},
     "nuid": "adc8308e-a258-4e4d-b89a-ebe8658e24ed",
     "showTitle": false,
     "tableResultSettingsMap": {},
     "title": ""
    }
   },
   "outputs": [],
   "source": [
    "# casting column\n",
    "# select employee_id, name, age, cast(salary as double) as salary from emp\n",
    "\n",
    "from pyspark.sql.functions import col, cast\n",
    "\n",
    "emp_casted = emp.select('employee_id', 'name', 'age', col('salary').cast('double'))"
   ]
  },
  {
   "cell_type": "code",
   "execution_count": 0,
   "metadata": {
    "application/vnd.databricks.v1+cell": {
     "cellMetadata": {
      "byteLimit": 2048000,
      "rowLimit": 10000
     },
     "inputWidgets": {},
     "nuid": "753b1456-a9a0-41b0-b7eb-d29b82cae552",
     "showTitle": false,
     "tableResultSettingsMap": {},
     "title": ""
    }
   },
   "outputs": [
    {
     "output_type": "stream",
     "name": "stdout",
     "output_type": "stream",
     "text": [
      "root\n |-- employee_id: string (nullable = true)\n |-- name: string (nullable = true)\n |-- age: string (nullable = true)\n |-- salary: double (nullable = true)\n\n"
     ]
    }
   ],
   "source": [
    "emp_casted.printSchema()"
   ]
  },
  {
   "cell_type": "code",
   "execution_count": 0,
   "metadata": {
    "application/vnd.databricks.v1+cell": {
     "cellMetadata": {
      "byteLimit": 2048000,
      "rowLimit": 10000
     },
     "inputWidgets": {},
     "nuid": "f305b2c8-11fd-4104-88c4-e8fd368f9002",
     "showTitle": false,
     "tableResultSettingsMap": {},
     "title": ""
    }
   },
   "outputs": [],
   "source": [
    "# adding columns\n",
    "# select employee_id, name, age, salary, (salary * 0.2) as tax from emp_casted\n",
    "\n",
    "emp_taxed = emp_casted.withColumn('tax', col('salary')*0.2)"
   ]
  },
  {
   "cell_type": "code",
   "execution_count": 0,
   "metadata": {
    "application/vnd.databricks.v1+cell": {
     "cellMetadata": {
      "byteLimit": 2048000,
      "rowLimit": 10000
     },
     "inputWidgets": {},
     "nuid": "bbd586c1-2e4d-429e-beab-531ddc2648a5",
     "showTitle": false,
     "tableResultSettingsMap": {},
     "title": ""
    }
   },
   "outputs": [
    {
     "output_type": "stream",
     "name": "stdout",
     "output_type": "stream",
     "text": [
      "+-----------+-------------+---+-------+-------+\n|employee_id|         name|age| salary|    tax|\n+-----------+-------------+---+-------+-------+\n|        001|Alice Johnson| 29|52000.0|10400.0|\n|        002|    Bob Smith| 34|48000.0| 9600.0|\n|        003|Charlie Brown| 26|47000.0| 9400.0|\n|        004| Diana Prince| 31|55000.0|11000.0|\n|        005|   Ethan Hunt| 28|49500.0| 9900.0|\n+-----------+-------------+---+-------+-------+\nonly showing top 5 rows\n\n"
     ]
    }
   ],
   "source": [
    "emp_taxed.show(5)"
   ]
  },
  {
   "cell_type": "code",
   "execution_count": 0,
   "metadata": {
    "application/vnd.databricks.v1+cell": {
     "cellMetadata": {
      "byteLimit": 2048000,
      "rowLimit": 10000
     },
     "inputWidgets": {},
     "nuid": "85215e62-3ce0-4307-8b96-8bed9bf1ad82",
     "showTitle": false,
     "tableResultSettingsMap": {},
     "title": ""
    }
   },
   "outputs": [],
   "source": [
    "# Literals\n",
    "# select employee_id, name, age, salary, tax, 1 as columnOne, 'two' as columnTwo from emp_taxed\n",
    "from pyspark.sql.functions import lit\n",
    "\n",
    "emp_new_cols = emp_taxed.withColumn('columnOne', lit(1)).withColumn('columnTwo', lit('two'))"
   ]
  },
  {
   "cell_type": "code",
   "execution_count": 0,
   "metadata": {
    "application/vnd.databricks.v1+cell": {
     "cellMetadata": {
      "byteLimit": 2048000,
      "rowLimit": 10000
     },
     "inputWidgets": {},
     "nuid": "e8ee781c-a6e7-4868-bd3f-c098d5885aee",
     "showTitle": false,
     "tableResultSettingsMap": {},
     "title": ""
    }
   },
   "outputs": [
    {
     "output_type": "stream",
     "name": "stdout",
     "output_type": "stream",
     "text": [
      "+-----------+-------------+---+-------+-------+---------+---------+\n|employee_id|         name|age| salary|    tax|columnOne|columnTwo|\n+-----------+-------------+---+-------+-------+---------+---------+\n|        001|Alice Johnson| 29|52000.0|10400.0|        1|      two|\n|        002|    Bob Smith| 34|48000.0| 9600.0|        1|      two|\n|        003|Charlie Brown| 26|47000.0| 9400.0|        1|      two|\n|        004| Diana Prince| 31|55000.0|11000.0|        1|      two|\n|        005|   Ethan Hunt| 28|49500.0| 9900.0|        1|      two|\n+-----------+-------------+---+-------+-------+---------+---------+\nonly showing top 5 rows\n\n"
     ]
    }
   ],
   "source": [
    "emp_new_cols.show(5)"
   ]
  },
  {
   "cell_type": "code",
   "execution_count": 0,
   "metadata": {
    "application/vnd.databricks.v1+cell": {
     "cellMetadata": {
      "byteLimit": 2048000,
      "rowLimit": 10000
     },
     "inputWidgets": {},
     "nuid": "479aba38-4b2b-468b-843c-c9456afbc9dd",
     "showTitle": false,
     "tableResultSettingsMap": {},
     "title": ""
    }
   },
   "outputs": [],
   "source": [
    "# Renaming columns\n",
    "# select emp_id, name, age, salary, tax, columnOne, columnTwo from emp_new_cols\n",
    "emp_1 = emp_new_cols.withColumnRenamed('employee_id', 'emp_id')\n"
   ]
  },
  {
   "cell_type": "code",
   "execution_count": 0,
   "metadata": {
    "application/vnd.databricks.v1+cell": {
     "cellMetadata": {
      "byteLimit": 2048000,
      "rowLimit": 10000
     },
     "inputWidgets": {},
     "nuid": "01881e5c-5dd1-46ee-b53f-1ce17f91270d",
     "showTitle": false,
     "tableResultSettingsMap": {},
     "title": ""
    }
   },
   "outputs": [
    {
     "output_type": "stream",
     "name": "stdout",
     "output_type": "stream",
     "text": [
      "root\n |-- emp_id: string (nullable = true)\n |-- name: string (nullable = true)\n |-- age: string (nullable = true)\n |-- salary: double (nullable = true)\n |-- tax: double (nullable = true)\n |-- columnOne: integer (nullable = false)\n |-- columnTwo: string (nullable = false)\n\n"
     ]
    }
   ],
   "source": [
    "emp_1.printSchema()"
   ]
  },
  {
   "cell_type": "code",
   "execution_count": 0,
   "metadata": {
    "application/vnd.databricks.v1+cell": {
     "cellMetadata": {
      "byteLimit": 2048000,
      "rowLimit": 10000
     },
     "inputWidgets": {},
     "nuid": "c64809f1-0191-4dbe-8c1a-981857769918",
     "showTitle": false,
     "tableResultSettingsMap": {},
     "title": ""
    }
   },
   "outputs": [],
   "source": [
    "# Column name with spaces\n",
    "# select emp_id, name, age, salary, columnOne, columnTwo as 'Column Two' from emp_new_cols\n",
    "emp_2 = emp_new_cols.withColumnRenamed('columnTwo', 'Column Two')"
   ]
  },
  {
   "cell_type": "code",
   "execution_count": 0,
   "metadata": {
    "application/vnd.databricks.v1+cell": {
     "cellMetadata": {
      "byteLimit": 2048000,
      "rowLimit": 10000
     },
     "inputWidgets": {},
     "nuid": "f3797cca-f8de-44f9-8e8b-79fb4233f424",
     "showTitle": false,
     "tableResultSettingsMap": {},
     "title": ""
    }
   },
   "outputs": [
    {
     "output_type": "stream",
     "name": "stdout",
     "output_type": "stream",
     "text": [
      "root\n |-- employee_id: string (nullable = true)\n |-- name: string (nullable = true)\n |-- age: string (nullable = true)\n |-- salary: double (nullable = true)\n |-- tax: double (nullable = true)\n |-- columnOne: integer (nullable = false)\n |-- Column Two: string (nullable = false)\n\n"
     ]
    }
   ],
   "source": [
    "emp_2.printSchema()"
   ]
  },
  {
   "cell_type": "code",
   "execution_count": 0,
   "metadata": {
    "application/vnd.databricks.v1+cell": {
     "cellMetadata": {
      "byteLimit": 2048000,
      "rowLimit": 10000
     },
     "inputWidgets": {},
     "nuid": "c03a3033-d307-4585-9e67-0c9b18728d18",
     "showTitle": false,
     "tableResultSettingsMap": {},
     "title": ""
    }
   },
   "outputs": [],
   "source": [
    "# Remove columns\n",
    "emp_dropped = emp_new_cols.drop('columnTwo', 'columnOne')"
   ]
  },
  {
   "cell_type": "code",
   "execution_count": 0,
   "metadata": {
    "application/vnd.databricks.v1+cell": {
     "cellMetadata": {
      "byteLimit": 2048000,
      "rowLimit": 10000
     },
     "inputWidgets": {},
     "nuid": "431101b6-6d89-4bc3-af95-a104a73e0aa8",
     "showTitle": false,
     "tableResultSettingsMap": {},
     "title": ""
    }
   },
   "outputs": [
    {
     "output_type": "stream",
     "name": "stdout",
     "output_type": "stream",
     "text": [
      "root\n |-- employee_id: string (nullable = true)\n |-- name: string (nullable = true)\n |-- age: string (nullable = true)\n |-- salary: double (nullable = true)\n |-- tax: double (nullable = true)\n\n"
     ]
    }
   ],
   "source": [
    "emp_dropped.printSchema()"
   ]
  },
  {
   "cell_type": "code",
   "execution_count": 0,
   "metadata": {
    "application/vnd.databricks.v1+cell": {
     "cellMetadata": {
      "byteLimit": 2048000,
      "rowLimit": 10000
     },
     "inputWidgets": {},
     "nuid": "59e86207-1ece-4c26-8019-4852cb2a1fab",
     "showTitle": false,
     "tableResultSettingsMap": {},
     "title": ""
    }
   },
   "outputs": [],
   "source": [
    "# Filter data\n",
    "# select employee_id, name, age, salary, tax from emp_dropped where salary > 50000\n",
    "emp_filtered = emp_dropped.where('salary > 50000')"
   ]
  },
  {
   "cell_type": "code",
   "execution_count": 0,
   "metadata": {
    "application/vnd.databricks.v1+cell": {
     "cellMetadata": {
      "byteLimit": 2048000,
      "rowLimit": 10000
     },
     "inputWidgets": {},
     "nuid": "9480c95a-b780-4a28-a51a-888e6f13b73e",
     "showTitle": false,
     "tableResultSettingsMap": {},
     "title": ""
    }
   },
   "outputs": [
    {
     "output_type": "stream",
     "name": "stdout",
     "output_type": "stream",
     "text": [
      "+-----------+---------------+---+-------+-------+\n|employee_id|           name|age| salary|    tax|\n+-----------+---------------+---+-------+-------+\n|        001|  Alice Johnson| 29|52000.0|10400.0|\n|        004|   Diana Prince| 31|55000.0|11000.0|\n|        006|Fiona Gallagher| 27|51000.0|10200.0|\n|        008| Hannah Montana| 25|53000.0|10600.0|\n|        009|   Isaac Newton| 35|60000.0|12000.0|\n|        010|  Jessica Jones| 32|58000.0|11600.0|\n|        012|    Laura Croft| 30|57000.0|11400.0|\n|        013|      Mike Ross| 29|51500.0|10300.0|\n|        014|     Nancy Drew| 27|54000.0|10800.0|\n|        017|   Quinn Fabray| 26|51000.0|10200.0|\n|        019|   Sophia Loren| 30|56000.0|11200.0|\n+-----------+---------------+---+-------+-------+\n\n"
     ]
    }
   ],
   "source": [
    "emp_filtered.show()"
   ]
  },
  {
   "cell_type": "code",
   "execution_count": 0,
   "metadata": {
    "application/vnd.databricks.v1+cell": {
     "cellMetadata": {
      "byteLimit": 2048000,
      "rowLimit": 10000
     },
     "inputWidgets": {},
     "nuid": "c9feacd0-f236-42c9-82c5-19cc4c021195",
     "showTitle": false,
     "tableResultSettingsMap": {},
     "title": ""
    }
   },
   "outputs": [],
   "source": [
    "# Limit columns\n",
    "# select employee_id, name, age, salary, tax from emp_filtered limit 5\n",
    "emp_limit = emp_filtered.limit(5)"
   ]
  },
  {
   "cell_type": "code",
   "execution_count": 0,
   "metadata": {
    "application/vnd.databricks.v1+cell": {
     "cellMetadata": {
      "byteLimit": 2048000,
      "rowLimit": 10000
     },
     "inputWidgets": {},
     "nuid": "b1d4a2eb-feae-48ae-9bd2-6d28e12570bf",
     "showTitle": false,
     "tableResultSettingsMap": {},
     "title": ""
    }
   },
   "outputs": [
    {
     "output_type": "stream",
     "name": "stdout",
     "output_type": "stream",
     "text": [
      "+-----------+---------------+---+-------+-------+\n|employee_id|           name|age| salary|    tax|\n+-----------+---------------+---+-------+-------+\n|        001|  Alice Johnson| 29|52000.0|10400.0|\n|        004|   Diana Prince| 31|55000.0|11000.0|\n|        006|Fiona Gallagher| 27|51000.0|10200.0|\n|        008| Hannah Montana| 25|53000.0|10600.0|\n|        009|   Isaac Newton| 35|60000.0|12000.0|\n+-----------+---------------+---+-------+-------+\n\n"
     ]
    }
   ],
   "source": [
    "emp_limit.show()"
   ]
  },
  {
   "cell_type": "code",
   "execution_count": 0,
   "metadata": {
    "application/vnd.databricks.v1+cell": {
     "cellMetadata": {
      "byteLimit": 2048000,
      "rowLimit": 10000
     },
     "inputWidgets": {},
     "nuid": "2051701e-4dc6-49a9-b0cd-e43427582ea7",
     "showTitle": false,
     "tableResultSettingsMap": {},
     "title": ""
    }
   },
   "outputs": [],
   "source": [
    "# Add multiple columns\n",
    "columns = {\n",
    "    'tax': col('salary') * 0.2,\n",
    "    'oneNumber': lit(1),\n",
    "    'columnTwo': lit('Two')\n",
    "}\n",
    "\n",
    "emp_final = emp.withColumns(columns)"
   ]
  },
  {
   "cell_type": "code",
   "execution_count": 0,
   "metadata": {
    "application/vnd.databricks.v1+cell": {
     "cellMetadata": {
      "byteLimit": 2048000,
      "rowLimit": 10000
     },
     "inputWidgets": {},
     "nuid": "1c26b8e6-e3a1-4216-b16a-c0cd47f62ce7",
     "showTitle": false,
     "tableResultSettingsMap": {},
     "title": ""
    }
   },
   "outputs": [
    {
     "output_type": "stream",
     "name": "stdout",
     "output_type": "stream",
     "text": [
      "+-----------+-------------+-------------+---+------+------+----------+-------+---------+---------+\n|employee_id|department_id|         name|age|gender|salary| hire_date|    tax|oneNumber|columnTwo|\n+-----------+-------------+-------------+---+------+------+----------+-------+---------+---------+\n|        001|          101|Alice Johnson| 29|Female| 52000|2016-03-15|10400.0|        1|      Two|\n|        002|          102|    Bob Smith| 34|  Male| 48000|2017-07-20| 9600.0|        1|      Two|\n|        003|          103|Charlie Brown| 26|  Male| 47000|2018-02-01| 9400.0|        1|      Two|\n|        004|          104| Diana Prince| 31|Female| 55000|2015-11-12|11000.0|        1|      Two|\n|        005|          105|   Ethan Hunt| 28|  Male| 49500|2019-05-08| 9900.0|        1|      Two|\n+-----------+-------------+-------------+---+------+------+----------+-------+---------+---------+\nonly showing top 5 rows\n\n"
     ]
    }
   ],
   "source": [
    "emp_final.show(5)"
   ]
  },
  {
   "cell_type": "code",
   "execution_count": 0,
   "metadata": {
    "application/vnd.databricks.v1+cell": {
     "cellMetadata": {
      "byteLimit": 2048000,
      "rowLimit": 10000
     },
     "inputWidgets": {},
     "nuid": "c2d9dec2-3e91-4bea-b62b-c2809db409dc",
     "showTitle": false,
     "tableResultSettingsMap": {},
     "title": ""
    }
   },
   "outputs": [],
   "source": []
  }
 ],
 "metadata": {
  "application/vnd.databricks.v1+notebook": {
   "dashboards": [],
   "environmentMetadata": null,
   "language": "python",
   "notebookMetadata": {
    "pythonIndentUnit": 4
   },
   "notebookName": "03_basic_transformation",
   "widgets": {}
  }
 },
 "nbformat": 4,
 "nbformat_minor": 0
}
