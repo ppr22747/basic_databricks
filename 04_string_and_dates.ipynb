{
 "cells": [
  {
   "cell_type": "code",
   "execution_count": 0,
   "metadata": {
    "application/vnd.databricks.v1+cell": {
     "cellMetadata": {
      "byteLimit": 2048000,
      "rowLimit": 10000
     },
     "inputWidgets": {},
     "nuid": "eb1da2dc-7c91-4afb-ac13-aaebcdfa01f5",
     "showTitle": false,
     "tableResultSettingsMap": {},
     "title": ""
    }
   },
   "outputs": [],
   "source": [
    "# import SparkSession from spark SQL\n",
    "\n",
    "from pyspark.sql import SparkSession\n",
    "\n",
    "spark = (\n",
    "    SparkSession\n",
    "    .builder\n",
    "    .appName('Basic Transformation - I')\n",
    "    .getOrCreate()\n",
    ")"
   ]
  },
  {
   "cell_type": "code",
   "execution_count": 0,
   "metadata": {
    "application/vnd.databricks.v1+cell": {
     "cellMetadata": {
      "byteLimit": 2048000,
      "rowLimit": 10000
     },
     "inputWidgets": {},
     "nuid": "48d9fa2b-1c64-4237-99b9-840ed477004c",
     "showTitle": false,
     "tableResultSettingsMap": {},
     "title": ""
    }
   },
   "outputs": [
    {
     "output_type": "execute_result",
     "data": {
      "text/html": [
       "\n",
       "            <div>\n",
       "                <p><b>SparkSession - hive</b></p>\n",
       "                \n",
       "        <div>\n",
       "            <p><b>SparkContext</b></p>\n",
       "\n",
       "            <p><a href=\"/?o=4357292740597027#setting/sparkui/1209-070202-fjcdr39x/driver-63789682854175775\">Spark UI</a></p>\n",
       "\n",
       "            <dl>\n",
       "              <dt>Version</dt>\n",
       "                <dd><code>v3.5.0</code></dd>\n",
       "              <dt>Master</dt>\n",
       "                <dd><code>local[8]</code></dd>\n",
       "              <dt>AppName</dt>\n",
       "                <dd><code>Databricks Shell</code></dd>\n",
       "            </dl>\n",
       "        </div>\n",
       "        \n",
       "            </div>\n",
       "        "
      ],
      "text/plain": [
       "<pyspark.sql.session.SparkSession at 0x7f98f7b01390>"
      ]
     },
     "execution_count": 2,
     "metadata": {},
     "output_type": "execute_result"
    }
   ],
   "source": [
    "spark"
   ]
  },
  {
   "cell_type": "code",
   "execution_count": 0,
   "metadata": {
    "application/vnd.databricks.v1+cell": {
     "cellMetadata": {
      "byteLimit": 2048000,
      "rowLimit": 10000
     },
     "inputWidgets": {},
     "nuid": "89ee8906-c643-4e31-9110-f099dd488419",
     "showTitle": false,
     "tableResultSettingsMap": {},
     "title": ""
    }
   },
   "outputs": [],
   "source": [
    "# emp data and schema\n",
    "\n",
    "emp_data = [\n",
    "    ['001', '101', 'Alice Johnson', '29', 'Female', '52000', '2016-03-15'],\n",
    "    ['002', '102', 'Bob Smith', '34', 'Male', '48000', '2017-07-20'],\n",
    "    ['003', '103', 'Charlie Brown', '26', 'Male', '47000', '2018-02-01'],\n",
    "    ['004', '104', 'Diana Prince', '31', 'Female', '55000', '2015-11-12'],\n",
    "    ['005', '105', 'Ethan Hunt', '28', 'Male', '49500', '2019-05-08'],\n",
    "    ['006', '106', 'Fiona Gallagher', '27', 'Female', '51000', '2016-09-10'],\n",
    "    ['007', '107', 'George Costanza', '33', 'Male', '46000', '2015-01-01'],\n",
    "    ['008', '108', 'Hannah Montana', '25', 'Female', '53000', '2017-04-14'],\n",
    "    ['009', '109', 'Isaac Newton', '35', 'Male', '60000', '2018-10-25'],\n",
    "    ['010', '110', 'Jessica Jones', '32', 'Female', '58000', '2016-06-30'],\n",
    "    ['011', '111', 'Kevin Malone', '36', 'Male', '49000', '2015-03-18'],\n",
    "    ['012', '112', 'Laura Croft', '30', 'Female', '57000', '2017-08-22'],\n",
    "    ['013', '113', 'Mike Ross', '29', 'Male', '51500', '2019-01-05'],\n",
    "    ['014', '114', 'Nancy Drew', '27', 'Female', '54000', '2016-12-09'],\n",
    "    ['015', '115', 'Oscar Martinez', '28', '', '45500', '2018-03-19'],\n",
    "    ['016', '116', 'Pam Beesly', '31', 'Female', '47500', '2019-07-13'],\n",
    "    ['017', '117', 'Quinn Fabray', '26', 'Female', '51000', '2015-11-05'],\n",
    "    ['018', '118', 'Ryan Howard', '34', 'Male', '49000', '2016-04-21'],\n",
    "    ['019', '119', 'Sophia Loren', '30', 'Female', '56000', '2018-09-17'],\n",
    "    ['020', '120', 'Toby Flenderson', '35', 'Male', '45000', '2017-02-08']\n",
    "]\n",
    "\n",
    "emp_schema = \"employee_id string, department_id string, name string, age string, gender string, salary string, hire_date string\""
   ]
  },
  {
   "cell_type": "code",
   "execution_count": 0,
   "metadata": {
    "application/vnd.databricks.v1+cell": {
     "cellMetadata": {
      "byteLimit": 2048000,
      "rowLimit": 10000
     },
     "inputWidgets": {},
     "nuid": "e3a7df4b-e725-4f8b-95a6-03f5ad5a3425",
     "showTitle": false,
     "tableResultSettingsMap": {},
     "title": ""
    }
   },
   "outputs": [],
   "source": [
    "emp = spark.createDataFrame(data=emp_data, schema=emp_schema)"
   ]
  },
  {
   "cell_type": "code",
   "execution_count": 0,
   "metadata": {
    "application/vnd.databricks.v1+cell": {
     "cellMetadata": {
      "byteLimit": 2048000,
      "rowLimit": 10000
     },
     "inputWidgets": {},
     "nuid": "8c3f6e58-ade5-4dd6-a69f-9d97ebb78f18",
     "showTitle": false,
     "tableResultSettingsMap": {},
     "title": ""
    }
   },
   "outputs": [
    {
     "output_type": "stream",
     "name": "stdout",
     "output_type": "stream",
     "text": [
      "root\n |-- employee_id: string (nullable = true)\n |-- department_id: string (nullable = true)\n |-- name: string (nullable = true)\n |-- age: string (nullable = true)\n |-- gender: string (nullable = true)\n |-- salary: string (nullable = true)\n |-- hire_date: string (nullable = true)\n\n"
     ]
    }
   ],
   "source": [
    "emp.printSchema()"
   ]
  },
  {
   "cell_type": "code",
   "execution_count": 0,
   "metadata": {
    "application/vnd.databricks.v1+cell": {
     "cellMetadata": {
      "byteLimit": 2048000,
      "rowLimit": 10000
     },
     "inputWidgets": {},
     "nuid": "7ca40c85-496e-4c73-bfc2-077755f53dcb",
     "showTitle": false,
     "tableResultSettingsMap": {},
     "title": ""
    }
   },
   "outputs": [],
   "source": [
    "# Case when\n",
    "# select employee_id, name, age, salary, gender,\n",
    "# case when gender = 'Male' then 'M' when gender = 'Female' then 'F' else null end as new_gender, hire_date from emp\n",
    "\n",
    "from pyspark.sql.functions import when, col, expr\n",
    "\n",
    "emp_gender_fixed = emp.withColumn('new_gender', when(col('gender') == 'Male', 'M')\n",
    "                                  .when(col('gender') == 'Female', 'F')\n",
    "                                  .otherwise(None)\n",
    "                                  )\n",
    "\n",
    "# Case when using expr\n",
    "emp_gender_fixed_1 = emp.withColumn('new_gender', expr(\"case when gender = 'Male' then 'M' when gender = 'Female' then 'F' else null end\"))"
   ]
  },
  {
   "cell_type": "code",
   "execution_count": 0,
   "metadata": {
    "application/vnd.databricks.v1+cell": {
     "cellMetadata": {
      "byteLimit": 2048000,
      "rowLimit": 10000
     },
     "inputWidgets": {},
     "nuid": "bc69ad93-6b86-477f-99a4-9066334dcb21",
     "showTitle": false,
     "tableResultSettingsMap": {},
     "title": ""
    }
   },
   "outputs": [
    {
     "output_type": "stream",
     "name": "stdout",
     "output_type": "stream",
     "text": [
      "+-----------+-------------+---------------+---+------+------+----------+----------+\n|employee_id|department_id|           name|age|gender|salary| hire_date|new_gender|\n+-----------+-------------+---------------+---+------+------+----------+----------+\n|        001|          101|  Alice Johnson| 29|Female| 52000|2016-03-15|         F|\n|        002|          102|      Bob Smith| 34|  Male| 48000|2017-07-20|         M|\n|        003|          103|  Charlie Brown| 26|  Male| 47000|2018-02-01|         M|\n|        004|          104|   Diana Prince| 31|Female| 55000|2015-11-12|         F|\n|        005|          105|     Ethan Hunt| 28|  Male| 49500|2019-05-08|         M|\n|        006|          106|Fiona Gallagher| 27|Female| 51000|2016-09-10|         F|\n|        007|          107|George Costanza| 33|  Male| 46000|2015-01-01|         M|\n|        008|          108| Hannah Montana| 25|Female| 53000|2017-04-14|         F|\n|        009|          109|   Isaac Newton| 35|  Male| 60000|2018-10-25|         M|\n|        010|          110|  Jessica Jones| 32|Female| 58000|2016-06-30|         F|\n|        011|          111|   Kevin Malone| 36|  Male| 49000|2015-03-18|         M|\n|        012|          112|    Laura Croft| 30|Female| 57000|2017-08-22|         F|\n|        013|          113|      Mike Ross| 29|  Male| 51500|2019-01-05|         M|\n|        014|          114|     Nancy Drew| 27|Female| 54000|2016-12-09|         F|\n|        015|          115| Oscar Martinez| 28|      | 45500|2018-03-19|      NULL|\n|        016|          116|     Pam Beesly| 31|Female| 47500|2019-07-13|         F|\n|        017|          117|   Quinn Fabray| 26|Female| 51000|2015-11-05|         F|\n|        018|          118|    Ryan Howard| 34|  Male| 49000|2016-04-21|         M|\n|        019|          119|   Sophia Loren| 30|Female| 56000|2018-09-17|         F|\n|        020|          120|Toby Flenderson| 35|  Male| 45000|2017-02-08|         M|\n+-----------+-------------+---------------+---+------+------+----------+----------+\n\n"
     ]
    }
   ],
   "source": [
    "emp_gender_fixed.show()"
   ]
  },
  {
   "cell_type": "code",
   "execution_count": 0,
   "metadata": {
    "application/vnd.databricks.v1+cell": {
     "cellMetadata": {
      "byteLimit": 2048000,
      "rowLimit": 10000
     },
     "inputWidgets": {},
     "nuid": "408ad1c3-b8b2-4ac5-a5e3-6771e12572b9",
     "showTitle": false,
     "tableResultSettingsMap": {},
     "title": ""
    }
   },
   "outputs": [
    {
     "output_type": "stream",
     "name": "stdout",
     "output_type": "stream",
     "text": [
      "+-----------+-------------+---------------+---+------+------+----------+----------+\n|employee_id|department_id|           name|age|gender|salary| hire_date|new_gender|\n+-----------+-------------+---------------+---+------+------+----------+----------+\n|        001|          101|  Alice Johnson| 29|Female| 52000|2016-03-15|         F|\n|        002|          102|      Bob Smith| 34|  Male| 48000|2017-07-20|         M|\n|        003|          103|  Charlie Brown| 26|  Male| 47000|2018-02-01|         M|\n|        004|          104|   Diana Prince| 31|Female| 55000|2015-11-12|         F|\n|        005|          105|     Ethan Hunt| 28|  Male| 49500|2019-05-08|         M|\n|        006|          106|Fiona Gallagher| 27|Female| 51000|2016-09-10|         F|\n|        007|          107|George Costanza| 33|  Male| 46000|2015-01-01|         M|\n|        008|          108| Hannah Montana| 25|Female| 53000|2017-04-14|         F|\n|        009|          109|   Isaac Newton| 35|  Male| 60000|2018-10-25|         M|\n|        010|          110|  Jessica Jones| 32|Female| 58000|2016-06-30|         F|\n|        011|          111|   Kevin Malone| 36|  Male| 49000|2015-03-18|         M|\n|        012|          112|    Laura Croft| 30|Female| 57000|2017-08-22|         F|\n|        013|          113|      Mike Ross| 29|  Male| 51500|2019-01-05|         M|\n|        014|          114|     Nancy Drew| 27|Female| 54000|2016-12-09|         F|\n|        015|          115| Oscar Martinez| 28|      | 45500|2018-03-19|      NULL|\n|        016|          116|     Pam Beesly| 31|Female| 47500|2019-07-13|         F|\n|        017|          117|   Quinn Fabray| 26|Female| 51000|2015-11-05|         F|\n|        018|          118|    Ryan Howard| 34|  Male| 49000|2016-04-21|         M|\n|        019|          119|   Sophia Loren| 30|Female| 56000|2018-09-17|         F|\n|        020|          120|Toby Flenderson| 35|  Male| 45000|2017-02-08|         M|\n+-----------+-------------+---------------+---+------+------+----------+----------+\n\n"
     ]
    }
   ],
   "source": [
    "emp_gender_fixed_1.show()"
   ]
  },
  {
   "cell_type": "code",
   "execution_count": 0,
   "metadata": {
    "application/vnd.databricks.v1+cell": {
     "cellMetadata": {
      "byteLimit": 2048000,
      "rowLimit": 10000
     },
     "inputWidgets": {},
     "nuid": "eaac9825-7e60-4944-a013-8b87d9cab24a",
     "showTitle": false,
     "tableResultSettingsMap": {},
     "title": ""
    }
   },
   "outputs": [],
   "source": [
    "# Replace in Strings\n",
    "# select employee_id, name, replace(name, 'J', 'Z') as new_name, age, salary, gender, new_gender, hire_date from emp_gender_fixed\n",
    "\n",
    "from pyspark.sql.functions import regexp_replace\n",
    "\n",
    "emp_name_fixed = emp_gender_fixed.withColumn('new_name', regexp_replace(col('name'),'J','Z'))"
   ]
  },
  {
   "cell_type": "markdown",
   "metadata": {
    "application/vnd.databricks.v1+cell": {
     "cellMetadata": {
      "byteLimit": 2048000,
      "rowLimit": 10000
     },
     "inputWidgets": {},
     "nuid": "a2245341-05f6-40eb-aef8-07f7d3d64f4c",
     "showTitle": false,
     "tableResultSettingsMap": {},
     "title": ""
    }
   },
   "source": [
    "#### String functions:\n",
    "##### [https://spark.apache.org/docs/latest/api/python/reference/pyspark.sql/functions.html#string-functions](url)"
   ]
  },
  {
   "cell_type": "code",
   "execution_count": 0,
   "metadata": {
    "application/vnd.databricks.v1+cell": {
     "cellMetadata": {
      "byteLimit": 2048000,
      "rowLimit": 10000
     },
     "inputWidgets": {},
     "nuid": "dc905124-bceb-4e89-8611-c07abc190fbc",
     "showTitle": false,
     "tableResultSettingsMap": {},
     "title": ""
    }
   },
   "outputs": [
    {
     "output_type": "stream",
     "name": "stdout",
     "output_type": "stream",
     "text": [
      "+-----------+-------------+-------------+---+------+------+----------+----------+-------------+\n|employee_id|department_id|         name|age|gender|salary| hire_date|new_gender|     new_name|\n+-----------+-------------+-------------+---+------+------+----------+----------+-------------+\n|        001|          101|Alice Johnson| 29|Female| 52000|2016-03-15|         F|Alice Zohnson|\n|        010|          110|Jessica Jones| 32|Female| 58000|2016-06-30|         F|Zessica Zones|\n+-----------+-------------+-------------+---+------+------+----------+----------+-------------+\n\n"
     ]
    }
   ],
   "source": [
    "emp_name_fixed.where(col('name').like(\"%J%\") & col(\"new_name\").like(\"%Z%\")).show()"
   ]
  },
  {
   "cell_type": "code",
   "execution_count": 0,
   "metadata": {
    "application/vnd.databricks.v1+cell": {
     "cellMetadata": {
      "byteLimit": 2048000,
      "rowLimit": 10000
     },
     "inputWidgets": {},
     "nuid": "38c1f2ea-6edc-4c34-a50f-ed254472e489",
     "showTitle": false,
     "tableResultSettingsMap": {},
     "title": ""
    }
   },
   "outputs": [],
   "source": [
    "# Convert Date\n",
    "# select *, to_date(hire_date, 'YYYY-MM-DD') as hire_date from emp_name_fixed # convert and overwrite\n",
    "\n",
    "from pyspark.sql.functions import to_date\n",
    "\n",
    "emp_date_fixed = emp_name_fixed.withColumn(\"hire_date\", to_date(col(\"hire_date\"), \"yyyy-MM-dd\"))"
   ]
  },
  {
   "cell_type": "code",
   "execution_count": 0,
   "metadata": {
    "application/vnd.databricks.v1+cell": {
     "cellMetadata": {
      "byteLimit": 2048000,
      "rowLimit": 10000
     },
     "inputWidgets": {},
     "nuid": "48e586a3-084f-43ff-ba5f-bb9efc1a749a",
     "showTitle": false,
     "tableResultSettingsMap": {},
     "title": ""
    }
   },
   "outputs": [
    {
     "output_type": "stream",
     "name": "stdout",
     "output_type": "stream",
     "text": [
      "root\n |-- employee_id: string (nullable = true)\n |-- department_id: string (nullable = true)\n |-- name: string (nullable = true)\n |-- age: string (nullable = true)\n |-- gender: string (nullable = true)\n |-- salary: string (nullable = true)\n |-- hire_date: date (nullable = true)\n |-- new_gender: string (nullable = true)\n |-- new_name: string (nullable = true)\n\n"
     ]
    }
   ],
   "source": [
    "emp_date_fixed.printSchema()"
   ]
  },
  {
   "cell_type": "code",
   "execution_count": 0,
   "metadata": {
    "application/vnd.databricks.v1+cell": {
     "cellMetadata": {
      "byteLimit": 2048000,
      "rowLimit": 10000
     },
     "inputWidgets": {},
     "nuid": "28ddaa61-04bd-4a50-a4eb-babae155ebf2",
     "showTitle": false,
     "tableResultSettingsMap": {},
     "title": ""
    }
   },
   "outputs": [],
   "source": [
    "from pyspark.sql.functions import current_date, current_timestamp\n",
    "\n",
    "emp_dated = emp_date_fixed.withColumn(\"date_now\", current_date()).withColumn(\"timestamp_now\", current_timestamp())"
   ]
  },
  {
   "cell_type": "code",
   "execution_count": 0,
   "metadata": {
    "application/vnd.databricks.v1+cell": {
     "cellMetadata": {
      "byteLimit": 2048000,
      "rowLimit": 10000
     },
     "inputWidgets": {},
     "nuid": "0db1d72f-545d-49b5-b697-9dd606a15138",
     "showTitle": false,
     "tableResultSettingsMap": {},
     "title": ""
    }
   },
   "outputs": [
    {
     "output_type": "stream",
     "name": "stdout",
     "output_type": "stream",
     "text": [
      "+-----------+-------------+-------------+---+------+------+----------+----------+-------------+----------+-----------------------+\n|employee_id|department_id|name         |age|gender|salary|hire_date |new_gender|new_name     |date_now  |timestamp_now          |\n+-----------+-------------+-------------+---+------+------+----------+----------+-------------+----------+-----------------------+\n|001        |101          |Alice Johnson|29 |Female|52000 |2016-03-15|F         |Alice Zohnson|2024-12-09|2024-12-09 08:00:17.509|\n|002        |102          |Bob Smith    |34 |Male  |48000 |2017-07-20|M         |Bob Smith    |2024-12-09|2024-12-09 08:00:17.509|\n|003        |103          |Charlie Brown|26 |Male  |47000 |2018-02-01|M         |Charlie Brown|2024-12-09|2024-12-09 08:00:17.509|\n|004        |104          |Diana Prince |31 |Female|55000 |2015-11-12|F         |Diana Prince |2024-12-09|2024-12-09 08:00:17.509|\n|005        |105          |Ethan Hunt   |28 |Male  |49500 |2019-05-08|M         |Ethan Hunt   |2024-12-09|2024-12-09 08:00:17.509|\n+-----------+-------------+-------------+---+------+------+----------+----------+-------------+----------+-----------------------+\n\n"
     ]
    }
   ],
   "source": [
    "emp_dated.limit(5).show(truncate=False)"
   ]
  },
  {
   "cell_type": "code",
   "execution_count": 0,
   "metadata": {
    "application/vnd.databricks.v1+cell": {
     "cellMetadata": {
      "byteLimit": 2048000,
      "rowLimit": 10000
     },
     "inputWidgets": {},
     "nuid": "4b7acc06-164c-4e3d-859a-e60582b2d258",
     "showTitle": false,
     "tableResultSettingsMap": {},
     "title": ""
    }
   },
   "outputs": [
    {
     "output_type": "stream",
     "name": "stdout",
     "output_type": "stream",
     "text": [
      "+-----------+-------------+---------------+---+------+------+----------+----------+---------------+----------+-----------------------+\n|employee_id|department_id|name           |age|gender|salary|hire_date |new_gender|new_name       |date_now  |timestamp_now          |\n+-----------+-------------+---------------+---+------+------+----------+----------+---------------+----------+-----------------------+\n|001        |101          |Alice Johnson  |29 |Female|52000 |2016-03-15|F         |Alice Zohnson  |2024-12-09|2024-12-09 08:00:18.633|\n|002        |102          |Bob Smith      |34 |Male  |48000 |2017-07-20|M         |Bob Smith      |2024-12-09|2024-12-09 08:00:18.633|\n|003        |103          |Charlie Brown  |26 |Male  |47000 |2018-02-01|M         |Charlie Brown  |2024-12-09|2024-12-09 08:00:18.633|\n|004        |104          |Diana Prince   |31 |Female|55000 |2015-11-12|F         |Diana Prince   |2024-12-09|2024-12-09 08:00:18.633|\n|005        |105          |Ethan Hunt     |28 |Male  |49500 |2019-05-08|M         |Ethan Hunt     |2024-12-09|2024-12-09 08:00:18.633|\n|006        |106          |Fiona Gallagher|27 |Female|51000 |2016-09-10|F         |Fiona Gallagher|2024-12-09|2024-12-09 08:00:18.633|\n|007        |107          |George Costanza|33 |Male  |46000 |2015-01-01|M         |George Costanza|2024-12-09|2024-12-09 08:00:18.633|\n|008        |108          |Hannah Montana |25 |Female|53000 |2017-04-14|F         |Hannah Montana |2024-12-09|2024-12-09 08:00:18.633|\n|009        |109          |Isaac Newton   |35 |Male  |60000 |2018-10-25|M         |Isaac Newton   |2024-12-09|2024-12-09 08:00:18.633|\n|010        |110          |Jessica Jones  |32 |Female|58000 |2016-06-30|F         |Zessica Zones  |2024-12-09|2024-12-09 08:00:18.633|\n|011        |111          |Kevin Malone   |36 |Male  |49000 |2015-03-18|M         |Kevin Malone   |2024-12-09|2024-12-09 08:00:18.633|\n|012        |112          |Laura Croft    |30 |Female|57000 |2017-08-22|F         |Laura Croft    |2024-12-09|2024-12-09 08:00:18.633|\n|013        |113          |Mike Ross      |29 |Male  |51500 |2019-01-05|M         |Mike Ross      |2024-12-09|2024-12-09 08:00:18.633|\n|014        |114          |Nancy Drew     |27 |Female|54000 |2016-12-09|F         |Nancy Drew     |2024-12-09|2024-12-09 08:00:18.633|\n|015        |115          |Oscar Martinez |28 |      |45500 |2018-03-19|NULL      |Oscar Martinez |2024-12-09|2024-12-09 08:00:18.633|\n|016        |116          |Pam Beesly     |31 |Female|47500 |2019-07-13|F         |Pam Beesly     |2024-12-09|2024-12-09 08:00:18.633|\n|017        |117          |Quinn Fabray   |26 |Female|51000 |2015-11-05|F         |Quinn Fabray   |2024-12-09|2024-12-09 08:00:18.633|\n|018        |118          |Ryan Howard    |34 |Male  |49000 |2016-04-21|M         |Ryan Howard    |2024-12-09|2024-12-09 08:00:18.633|\n|019        |119          |Sophia Loren   |30 |Female|56000 |2018-09-17|F         |Sophia Loren   |2024-12-09|2024-12-09 08:00:18.633|\n|020        |120          |Toby Flenderson|35 |Male  |45000 |2017-02-08|M         |Toby Flenderson|2024-12-09|2024-12-09 08:00:18.633|\n+-----------+-------------+---------------+---+------+------+----------+----------+---------------+----------+-----------------------+\n\n"
     ]
    }
   ],
   "source": [
    "emp_dated.show(truncate=False)"
   ]
  },
  {
   "cell_type": "code",
   "execution_count": 0,
   "metadata": {
    "application/vnd.databricks.v1+cell": {
     "cellMetadata": {
      "byteLimit": 2048000,
      "rowLimit": 10000
     },
     "inputWidgets": {},
     "nuid": "7523a3c3-bd95-40b0-974e-b0f76f4d4366",
     "showTitle": false,
     "tableResultSettingsMap": {},
     "title": ""
    }
   },
   "outputs": [],
   "source": [
    "# Drop null\n",
    "\n",
    "emp_1 = emp_dated.na.drop()"
   ]
  },
  {
   "cell_type": "code",
   "execution_count": 0,
   "metadata": {
    "application/vnd.databricks.v1+cell": {
     "cellMetadata": {
      "byteLimit": 2048000,
      "rowLimit": 10000
     },
     "inputWidgets": {},
     "nuid": "2fb147f2-9ca4-4fa0-acaf-4396f7a5573b",
     "showTitle": false,
     "tableResultSettingsMap": {},
     "title": ""
    }
   },
   "outputs": [
    {
     "output_type": "stream",
     "name": "stdout",
     "output_type": "stream",
     "text": [
      "+-----------+-------------+---------------+---+------+------+----------+----------+---------------+----------+-----------------------+\n|employee_id|department_id|name           |age|gender|salary|hire_date |new_gender|new_name       |date_now  |timestamp_now          |\n+-----------+-------------+---------------+---+------+------+----------+----------+---------------+----------+-----------------------+\n|001        |101          |Alice Johnson  |29 |Female|52000 |2016-03-15|F         |Alice Zohnson  |2024-12-09|2024-12-09 08:00:19.599|\n|002        |102          |Bob Smith      |34 |Male  |48000 |2017-07-20|M         |Bob Smith      |2024-12-09|2024-12-09 08:00:19.599|\n|003        |103          |Charlie Brown  |26 |Male  |47000 |2018-02-01|M         |Charlie Brown  |2024-12-09|2024-12-09 08:00:19.599|\n|004        |104          |Diana Prince   |31 |Female|55000 |2015-11-12|F         |Diana Prince   |2024-12-09|2024-12-09 08:00:19.599|\n|005        |105          |Ethan Hunt     |28 |Male  |49500 |2019-05-08|M         |Ethan Hunt     |2024-12-09|2024-12-09 08:00:19.599|\n|006        |106          |Fiona Gallagher|27 |Female|51000 |2016-09-10|F         |Fiona Gallagher|2024-12-09|2024-12-09 08:00:19.599|\n|007        |107          |George Costanza|33 |Male  |46000 |2015-01-01|M         |George Costanza|2024-12-09|2024-12-09 08:00:19.599|\n|008        |108          |Hannah Montana |25 |Female|53000 |2017-04-14|F         |Hannah Montana |2024-12-09|2024-12-09 08:00:19.599|\n|009        |109          |Isaac Newton   |35 |Male  |60000 |2018-10-25|M         |Isaac Newton   |2024-12-09|2024-12-09 08:00:19.599|\n|010        |110          |Jessica Jones  |32 |Female|58000 |2016-06-30|F         |Zessica Zones  |2024-12-09|2024-12-09 08:00:19.599|\n|011        |111          |Kevin Malone   |36 |Male  |49000 |2015-03-18|M         |Kevin Malone   |2024-12-09|2024-12-09 08:00:19.599|\n|012        |112          |Laura Croft    |30 |Female|57000 |2017-08-22|F         |Laura Croft    |2024-12-09|2024-12-09 08:00:19.599|\n|013        |113          |Mike Ross      |29 |Male  |51500 |2019-01-05|M         |Mike Ross      |2024-12-09|2024-12-09 08:00:19.599|\n|014        |114          |Nancy Drew     |27 |Female|54000 |2016-12-09|F         |Nancy Drew     |2024-12-09|2024-12-09 08:00:19.599|\n|016        |116          |Pam Beesly     |31 |Female|47500 |2019-07-13|F         |Pam Beesly     |2024-12-09|2024-12-09 08:00:19.599|\n|017        |117          |Quinn Fabray   |26 |Female|51000 |2015-11-05|F         |Quinn Fabray   |2024-12-09|2024-12-09 08:00:19.599|\n|018        |118          |Ryan Howard    |34 |Male  |49000 |2016-04-21|M         |Ryan Howard    |2024-12-09|2024-12-09 08:00:19.599|\n|019        |119          |Sophia Loren   |30 |Female|56000 |2018-09-17|F         |Sophia Loren   |2024-12-09|2024-12-09 08:00:19.599|\n|020        |120          |Toby Flenderson|35 |Male  |45000 |2017-02-08|M         |Toby Flenderson|2024-12-09|2024-12-09 08:00:19.599|\n+-----------+-------------+---------------+---+------+------+----------+----------+---------------+----------+-----------------------+\n\n"
     ]
    }
   ],
   "source": [
    "emp_1.show(truncate=False)"
   ]
  },
  {
   "cell_type": "code",
   "execution_count": 0,
   "metadata": {
    "application/vnd.databricks.v1+cell": {
     "cellMetadata": {
      "byteLimit": 2048000,
      "rowLimit": 10000
     },
     "inputWidgets": {},
     "nuid": "31c960d4-077c-4db9-933c-d2bd2ebccd9d",
     "showTitle": false,
     "tableResultSettingsMap": {},
     "title": ""
    }
   },
   "outputs": [],
   "source": [
    "# Fix null values\n",
    "# select *, nvl('new_gender', 'NA') as new_gender from emp_dated\n",
    "\n",
    "from pyspark.sql.functions import coalesce, lit\n",
    "\n",
    "emp_null_df = emp_dated.withColumn(\"new_gender\", coalesce(col(\"new_gender\"), lit(\"NA\")))"
   ]
  },
  {
   "cell_type": "code",
   "execution_count": 0,
   "metadata": {
    "application/vnd.databricks.v1+cell": {
     "cellMetadata": {
      "byteLimit": 2048000,
      "rowLimit": 10000
     },
     "inputWidgets": {},
     "nuid": "2f76af90-8a29-47cb-a643-05e4a58178ab",
     "showTitle": false,
     "tableResultSettingsMap": {},
     "title": ""
    }
   },
   "outputs": [
    {
     "output_type": "stream",
     "name": "stdout",
     "output_type": "stream",
     "text": [
      "+-----------+-------------+---------------+---+------+------+----------+----------+---------------+----------+--------------------+\n|employee_id|department_id|           name|age|gender|salary| hire_date|new_gender|       new_name|  date_now|       timestamp_now|\n+-----------+-------------+---------------+---+------+------+----------+----------+---------------+----------+--------------------+\n|        001|          101|  Alice Johnson| 29|Female| 52000|2016-03-15|         F|  Alice Zohnson|2024-12-09|2024-12-09 08:00:...|\n|        002|          102|      Bob Smith| 34|  Male| 48000|2017-07-20|         M|      Bob Smith|2024-12-09|2024-12-09 08:00:...|\n|        003|          103|  Charlie Brown| 26|  Male| 47000|2018-02-01|         M|  Charlie Brown|2024-12-09|2024-12-09 08:00:...|\n|        004|          104|   Diana Prince| 31|Female| 55000|2015-11-12|         F|   Diana Prince|2024-12-09|2024-12-09 08:00:...|\n|        005|          105|     Ethan Hunt| 28|  Male| 49500|2019-05-08|         M|     Ethan Hunt|2024-12-09|2024-12-09 08:00:...|\n|        006|          106|Fiona Gallagher| 27|Female| 51000|2016-09-10|         F|Fiona Gallagher|2024-12-09|2024-12-09 08:00:...|\n|        007|          107|George Costanza| 33|  Male| 46000|2015-01-01|         M|George Costanza|2024-12-09|2024-12-09 08:00:...|\n|        008|          108| Hannah Montana| 25|Female| 53000|2017-04-14|         F| Hannah Montana|2024-12-09|2024-12-09 08:00:...|\n|        009|          109|   Isaac Newton| 35|  Male| 60000|2018-10-25|         M|   Isaac Newton|2024-12-09|2024-12-09 08:00:...|\n|        010|          110|  Jessica Jones| 32|Female| 58000|2016-06-30|         F|  Zessica Zones|2024-12-09|2024-12-09 08:00:...|\n|        011|          111|   Kevin Malone| 36|  Male| 49000|2015-03-18|         M|   Kevin Malone|2024-12-09|2024-12-09 08:00:...|\n|        012|          112|    Laura Croft| 30|Female| 57000|2017-08-22|         F|    Laura Croft|2024-12-09|2024-12-09 08:00:...|\n|        013|          113|      Mike Ross| 29|  Male| 51500|2019-01-05|         M|      Mike Ross|2024-12-09|2024-12-09 08:00:...|\n|        014|          114|     Nancy Drew| 27|Female| 54000|2016-12-09|         F|     Nancy Drew|2024-12-09|2024-12-09 08:00:...|\n|        015|          115| Oscar Martinez| 28|      | 45500|2018-03-19|        NA| Oscar Martinez|2024-12-09|2024-12-09 08:00:...|\n|        016|          116|     Pam Beesly| 31|Female| 47500|2019-07-13|         F|     Pam Beesly|2024-12-09|2024-12-09 08:00:...|\n|        017|          117|   Quinn Fabray| 26|Female| 51000|2015-11-05|         F|   Quinn Fabray|2024-12-09|2024-12-09 08:00:...|\n|        018|          118|    Ryan Howard| 34|  Male| 49000|2016-04-21|         M|    Ryan Howard|2024-12-09|2024-12-09 08:00:...|\n|        019|          119|   Sophia Loren| 30|Female| 56000|2018-09-17|         F|   Sophia Loren|2024-12-09|2024-12-09 08:00:...|\n|        020|          120|Toby Flenderson| 35|  Male| 45000|2017-02-08|         M|Toby Flenderson|2024-12-09|2024-12-09 08:00:...|\n+-----------+-------------+---------------+---+------+------+----------+----------+---------------+----------+--------------------+\n\n"
     ]
    }
   ],
   "source": [
    "emp_null_df.show()"
   ]
  },
  {
   "cell_type": "code",
   "execution_count": 0,
   "metadata": {
    "application/vnd.databricks.v1+cell": {
     "cellMetadata": {
      "byteLimit": 2048000,
      "rowLimit": 10000
     },
     "inputWidgets": {},
     "nuid": "c549c487-b14f-4707-940c-81b9e402f43b",
     "showTitle": false,
     "tableResultSettingsMap": {},
     "title": ""
    }
   },
   "outputs": [],
   "source": [
    "# Drop old columns and Fix new column names\n",
    "emp_final = emp_null_df.drop(\"name\", \"gender\").withColumnRenamed(\"new_name\", \"name\").withColumnRenamed(\"new_gender\", \"gender\")"
   ]
  },
  {
   "cell_type": "code",
   "execution_count": 0,
   "metadata": {
    "application/vnd.databricks.v1+cell": {
     "cellMetadata": {
      "byteLimit": 2048000,
      "rowLimit": 10000
     },
     "inputWidgets": {},
     "nuid": "cb206f44-1a4d-4dcf-852a-9ef905da72a2",
     "showTitle": false,
     "tableResultSettingsMap": {},
     "title": ""
    }
   },
   "outputs": [
    {
     "output_type": "stream",
     "name": "stdout",
     "output_type": "stream",
     "text": [
      "+-----------+-------------+---+------+----------+------+-------------+----------+--------------------+\n|employee_id|department_id|age|salary| hire_date|gender|         name|  date_now|       timestamp_now|\n+-----------+-------------+---+------+----------+------+-------------+----------+--------------------+\n|        001|          101| 29| 52000|2016-03-15|     F|Alice Zohnson|2024-12-09|2024-12-09 08:00:...|\n|        002|          102| 34| 48000|2017-07-20|     M|    Bob Smith|2024-12-09|2024-12-09 08:00:...|\n|        003|          103| 26| 47000|2018-02-01|     M|Charlie Brown|2024-12-09|2024-12-09 08:00:...|\n|        004|          104| 31| 55000|2015-11-12|     F| Diana Prince|2024-12-09|2024-12-09 08:00:...|\n|        005|          105| 28| 49500|2019-05-08|     M|   Ethan Hunt|2024-12-09|2024-12-09 08:00:...|\n+-----------+-------------+---+------+----------+------+-------------+----------+--------------------+\nonly showing top 5 rows\n\n"
     ]
    }
   ],
   "source": [
    "emp_final.show(5)"
   ]
  },
  {
   "cell_type": "code",
   "execution_count": 0,
   "metadata": {
    "application/vnd.databricks.v1+cell": {
     "cellMetadata": {
      "byteLimit": 2048000,
      "rowLimit": 10000
     },
     "inputWidgets": {},
     "nuid": "334343b0-674c-4138-a497-9c3b8f6e1c29",
     "showTitle": false,
     "tableResultSettingsMap": {},
     "title": ""
    }
   },
   "outputs": [],
   "source": [
    "# Convert date into string and extract date information\n",
    "\n",
    "from pyspark.sql.functions import date_format\n",
    "\n",
    "emp_fixed = emp_final.withColumn('date_string', date_format(col(\"hire_date\"), 'dd/MM/yyyy'))\n",
    "\n",
    "emp_fixed_1 = emp_final.withColumn('date_year', date_format(col(\"hire_date\"), 'yyyy'))"
   ]
  },
  {
   "cell_type": "code",
   "execution_count": 0,
   "metadata": {
    "application/vnd.databricks.v1+cell": {
     "cellMetadata": {
      "byteLimit": 2048000,
      "rowLimit": 10000
     },
     "inputWidgets": {},
     "nuid": "3264915e-2263-401c-8f4d-6e2720d7e768",
     "showTitle": false,
     "tableResultSettingsMap": {},
     "title": ""
    }
   },
   "outputs": [
    {
     "output_type": "stream",
     "name": "stdout",
     "output_type": "stream",
     "text": [
      "+-----------+-------------+---+------+----------+------+-------------+----------+--------------------+---------+\n|employee_id|department_id|age|salary| hire_date|gender|         name|  date_now|       timestamp_now|date_year|\n+-----------+-------------+---+------+----------+------+-------------+----------+--------------------+---------+\n|        001|          101| 29| 52000|2016-03-15|     F|Alice Zohnson|2024-12-09|2024-12-09 08:00:...|     2016|\n|        002|          102| 34| 48000|2017-07-20|     M|    Bob Smith|2024-12-09|2024-12-09 08:00:...|     2017|\n|        003|          103| 26| 47000|2018-02-01|     M|Charlie Brown|2024-12-09|2024-12-09 08:00:...|     2018|\n|        004|          104| 31| 55000|2015-11-12|     F| Diana Prince|2024-12-09|2024-12-09 08:00:...|     2015|\n|        005|          105| 28| 49500|2019-05-08|     M|   Ethan Hunt|2024-12-09|2024-12-09 08:00:...|     2019|\n+-----------+-------------+---+------+----------+------+-------------+----------+--------------------+---------+\nonly showing top 5 rows\n\n"
     ]
    }
   ],
   "source": [
    "emp_fixed_1.show(5)"
   ]
  },
  {
   "cell_type": "code",
   "execution_count": 0,
   "metadata": {
    "application/vnd.databricks.v1+cell": {
     "cellMetadata": {
      "byteLimit": 2048000,
      "rowLimit": 10000
     },
     "inputWidgets": {},
     "nuid": "a098c7e3-f5f6-4877-bd95-eb81bf7e09cb",
     "showTitle": false,
     "tableResultSettingsMap": {},
     "title": ""
    }
   },
   "outputs": [],
   "source": []
  }
 ],
 "metadata": {
  "application/vnd.databricks.v1+notebook": {
   "dashboards": [],
   "environmentMetadata": null,
   "language": "python",
   "notebookMetadata": {
    "pythonIndentUnit": 4
   },
   "notebookName": "04_string_and_dates",
   "widgets": {}
  }
 },
 "nbformat": 4,
 "nbformat_minor": 0
}
